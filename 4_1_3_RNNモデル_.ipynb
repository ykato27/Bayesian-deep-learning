{
  "nbformat": 4,
  "nbformat_minor": 0,
  "metadata": {
    "colab": {
      "name": "4-1-3_RNNモデル .ipynb",
      "provenance": [],
      "collapsed_sections": [],
      "include_colab_link": true
    },
    "kernelspec": {
      "name": "python3",
      "display_name": "Python 3"
    },
    "accelerator": "GPU"
  },
  "cells": [
    {
      "cell_type": "markdown",
      "metadata": {
        "id": "view-in-github",
        "colab_type": "text"
      },
      "source": [
        "<a href=\"https://colab.research.google.com/github/ykato27/Time-Series-Deep-Learning/blob/main/4_1_3_RNN%E3%83%A2%E3%83%87%E3%83%AB_.ipynb\" target=\"_parent\"><img src=\"https://colab.research.google.com/assets/colab-badge.svg\" alt=\"Open In Colab\"/></a>"
      ]
    },
    {
      "cell_type": "markdown",
      "metadata": {
        "id": "MArbGLALhqoM"
      },
      "source": [
        "# RNNモデル\n",
        "\n",
        "               入力系列--- TimeRNN --- TimeAffine --- 出力系列\n",
        "\n",
        "というニューラルネットワークを作り，学習を行います．\n",
        "\n",
        "RNN Model\n",
        "\n",
        "We create a neural network as\n",
        "\n",
        "              Input Series --- TimeRNN --- TimeAffine --- Output Series"
      ]
    },
    {
      "cell_type": "code",
      "metadata": {
        "id": "IBXV1Tq5NR1l"
      },
      "source": [
        "import pandas as pd\n",
        "import matplotlib.pyplot as plt\n",
        "import numpy as np"
      ],
      "execution_count": 1,
      "outputs": []
    },
    {
      "cell_type": "markdown",
      "metadata": {
        "id": "98yt_rzZdWL2"
      },
      "source": [
        "シグモイド関数の読み込み\n",
        "\n",
        "Loading the sigmoid function"
      ]
    },
    {
      "cell_type": "code",
      "metadata": {
        "id": "N3N1K5_8z4xx",
        "cellView": "both"
      },
      "source": [
        "def sigmoid(x):\n",
        "  x = -709*(x <= -709)+709*(x >= 709) + x*(x>-709) *(x<709) #オーバーフロー対策\n",
        "  return 1/(1+np.exp(-x))"
      ],
      "execution_count": 2,
      "outputs": []
    },
    {
      "cell_type": "markdown",
      "metadata": {
        "id": "ADYe_55xaOeZ"
      },
      "source": [
        "### 最適化法クラスの読み込み：SGD と Adam\n",
        "\n",
        "以前に実装したものと基本的に同じですが，パラメータの格納形式が辞書からリストに変更されています．\n",
        "\n",
        "Loading Optimization Method Classes: SGD and Adam\n",
        "\n",
        "Basically the same as the previous implementation, but the parameter storage format is changed from a dictionary to a list.\n",
        "\n"
      ]
    },
    {
      "cell_type": "code",
      "metadata": {
        "id": "fp8U3zhiVFU8",
        "cellView": "both"
      },
      "source": [
        "\n",
        "class SGD:\n",
        "  '''\n",
        "  確率的勾配降下法（Stochastic Gradient Descent）\n",
        "  '''\n",
        "  def __init__(self, lr=0.01):\n",
        "    self.lr = lr\n",
        "      \n",
        "  def update(self, params, grads):\n",
        "    for i in range(len(params)):\n",
        "      params[i] -= self.lr * grads[i]\n",
        "\n",
        "\n",
        "class Adam:\n",
        "  def __init__(self, lr=0.001, beta1=0.9, beta2=0.999):\n",
        "    self.lr = lr\n",
        "    self.beta1 = beta1\n",
        "    self.beta2 = beta2\n",
        "    self.iter = 0\n",
        "    self.m = None\n",
        "    self.v = None\n",
        "      \n",
        "  def update(self, params, grads):  \n",
        "    if self.m is None:\n",
        "      self.m, self.v = [], []\n",
        "      for param in params:\n",
        "        self.m.append(np.zeros_like(param))\n",
        "        self.v.append(np.zeros_like(param))\n",
        "      \n",
        "    self.iter += 1\n",
        "    lr_t = self.lr * np.sqrt(1.0 - self.beta2**self.iter) / (1.0 - self.beta1**self.iter)\n",
        "\n",
        "    for i in range(len(params)):\n",
        "      self.m[i][:] += (1 - self.beta1) * (grads[i] - self.m[i])\n",
        "      self.v[i][:] += (1 - self.beta2) * (grads[i]**2 - self.v[i])\n",
        "      \n",
        "      params[i][:] -= lr_t * self.m[i] / (np.sqrt(self.v[i]) + 1e-7)"
      ],
      "execution_count": 3,
      "outputs": []
    },
    {
      "cell_type": "markdown",
      "metadata": {
        "id": "juzUzl1pdoaz"
      },
      "source": [
        "#### アファイン層クラスとその時間方向への展開\n",
        "\n",
        "アファイン層も時間方向へパラメータをコピーして同じ変換を施しますが，入力 `x_time` を reshape することで効率的に計算します．\n",
        "\n",
        "The class of the affine layer and its expansion in the time direction\n",
        "\n",
        "The same transformation is applied to the affine layer by copying the parameters in the time direction, but it is computed efficiently by reshaping the input `x_time`.\n"
      ]
    },
    {
      "cell_type": "code",
      "metadata": {
        "id": "raagFcauyhXy",
        "cellView": "both"
      },
      "source": [
        "class Affine:\n",
        "  def __init__(self, W, b):\n",
        "    self.params = [W, b]\n",
        "    self.grads = None\n",
        "    self.x = None\n",
        "\n",
        "  def forward(self, x):\n",
        "    W, b = self.params\n",
        "    out = np.dot(x, W) + b\n",
        "    self.x = x\n",
        "    return out\n",
        "\n",
        "  def backward(self, dout):\n",
        "    W, b = self.params\n",
        "    dx = np.dot(dout, W.T)\n",
        "    dW = np.dot(self.x.T, dout)\n",
        "    db = np.sum(dout, axis=0)\n",
        "    self.grads = [dW, db]\n",
        "    return dx\n",
        "\n",
        "class TimeAffine:\n",
        "  '''\n",
        "  W:  (H,O)\n",
        "  b:  (O,)\n",
        "  入力 x:(N, T, H) を (N*T, H) に変換してから (N*T, H) (H, O) + (O,)= (N*T, O) -> (N,T,O) \n",
        "  '''\n",
        "  def __init__(self, W, b):\n",
        "    self.params = [W, b]\n",
        "    self.grads = None \n",
        "    self.layer = None\n",
        "\n",
        "  def forward(self, x):\n",
        "    N, T, H = x.shape\n",
        "\n",
        "    # アファインレイヤを生成\n",
        "    self.layer = Affine(*self.params) # * はカッコを外す *[W, b] = W, b\n",
        "    x = x.reshape(N*T, -1)            #(N*T, H)\n",
        "    out = self.layer.forward(x)       #(N*T, O)\n",
        "    return out.reshape(N, T, -1)      #(N, T, O)\n",
        "\n",
        "  def backward(self, dout):\n",
        "    N, T, O = dout.shape\n",
        "    dout = dout.reshape(N*T, -1)      #(N*T, O)\n",
        "    dx = self.layer.backward(dout)    #(N*T, H)\n",
        "    dx = dx.reshape(N,T,-1)           #(N, T, H)\n",
        "      \n",
        "    # 勾配を格納 \n",
        "    self.grads = self.layer.grads\n",
        "    return dx"
      ],
      "execution_count": 4,
      "outputs": []
    },
    {
      "cell_type": "markdown",
      "metadata": {
        "id": "AwdVoVacpKFn"
      },
      "source": [
        "### RNN層クラス\n",
        "\n",
        "前のノートブックと同じものです．\n",
        "\n",
        "RNN layer class\n",
        "\n",
        "The same as the previous notebook."
      ]
    },
    {
      "cell_type": "code",
      "metadata": {
        "id": "ug-Z5usDpKFX"
      },
      "source": [
        "#@title\n",
        "class RNN:\n",
        "  def __init__(self, Wx, Wh, b):\n",
        "    '''\n",
        "    Wx : 入力xにかかる重み        # (I,H)型       \n",
        "    Wh : １時刻前のhにかかる重み  # (H,H)\n",
        "    b : バイアス                  # (h,)\n",
        "    '''\n",
        "    self.params = [Wx, Wh, b]\n",
        "    \n",
        "    # 勾配のリスト\n",
        "    self.grads = [np.zeros_like(Wx), np.zeros_like(Wh), np.zeros_like(b)]\n",
        "    self.cache = None\n",
        "\n",
        "  def forward(self, x, h_prev):\n",
        "    '''\n",
        "    x      : 時刻 t の入力             # (N,I)型\n",
        "    h_prev : 時刻 t-1 の中間層の出力   # (N,H)\n",
        "    '''\n",
        "    Wx, Wh, b = self.params\n",
        "\n",
        "    a = np.dot(h_prev, Wh) + np.dot(x, Wx) + b\n",
        "    h = np.tanh(a)\n",
        "\n",
        "    # 値の一時保存\n",
        "    self.cache = (x, h_prev, h)\n",
        "    return h\n",
        "\n",
        "  def backward(self, dh):\n",
        "    '''\n",
        "    逆伝播計算\n",
        "    '''\n",
        "    Wx, Wh, b = self.params\n",
        "    x, h_prev, h = self.cache\n",
        "\n",
        "    # h = np.tanh(a) での逆伝播\n",
        "    da = dh * (1 - h ** 2)\n",
        "    \n",
        "    # a = np.dot(h_prev, Wh) + np.dot(x, Wx) + b での逆伝播\n",
        "    # 重みパラメータの勾配\n",
        "    dWx = np.dot(x.T, da)\n",
        "    dWh = np.dot(h_prev.T, da)\n",
        "    db = np.sum(da, axis=0)\n",
        "\n",
        "    self.grads = [dWx, dWh, db]\n",
        "\n",
        "    # 入力に渡す勾配\n",
        "    dh_prev = np.dot(da, Wh.T)\n",
        "    dx = np.dot(da, Wx.T)       \n",
        "\n",
        "    return dx, dh_prev\n"
      ],
      "execution_count": 5,
      "outputs": []
    },
    {
      "cell_type": "markdown",
      "metadata": {
        "id": "Da1Gu4NpyDCm"
      },
      "source": [
        "### TimeRNN層クラス\n",
        "\n",
        "前のノートブックと同じものです．\n",
        "\n",
        "TimeRNN layer class\n",
        "\n",
        "The same as the previous notebook."
      ]
    },
    {
      "cell_type": "code",
      "metadata": {
        "id": "BjFo1I96WEaC",
        "cellView": "both"
      },
      "source": [
        "\n",
        "class TimeRNN:        \n",
        "  def __init__(self, Wx, Wh, b):\n",
        "    self.params = [Wx, Wh, b]  # (I,H), (H,H), (H,)\n",
        "    self.grads = None\n",
        "    self.layers = None        \n",
        "\n",
        "  def forward(self, x_time, h=None): \n",
        "    '''\n",
        "    入力\n",
        "    x_time  : 入力列\n",
        "    h       : 中間状態の初期値\n",
        "    出力\n",
        "    h_time  : 出力列\n",
        "    h       : 最後の出力\n",
        "    '''\n",
        "    Wx, Wh, b = self.params\n",
        "    N, T, I = x_time.shape\n",
        "    H = Wh.shape[0]\n",
        "\n",
        "    if h is None: h = np.zeros((N,H))  # if h == None としてしまうと，h が配列のときにエラーになる\n",
        "    self.h = h\n",
        "\n",
        "    self.layers = []\n",
        "\n",
        "    # h_time は中間層の出力hを時間方向につなげたもの\n",
        "    h_time = np.zeros((N, T, H))\n",
        "    \n",
        "    # 時刻tについて順次計算する\n",
        "    for t in range(T):\n",
        "      # RNNレイヤを定義する\n",
        "      layer = RNN(*self.params) # *[Wx, Wh, b] = Wx, Wh, b \n",
        "      self.layers.append(layer)\n",
        "\n",
        "      # 時刻tでの計算\n",
        "      self.h = layer.forward(x_time[:, t, :], self.h)\n",
        "      \n",
        "      # 中間層の出力hをh_timeに代入する\n",
        "      h_time[:, t, :] = self.h\n",
        "\n",
        "    return h_time, self.h #最後の時刻の中間層も出力する\n",
        "\n",
        "  def backward(self, dh_time, dh=0): #dh,は中間層の逆伝播\n",
        "    Wx, Wh, b = self.params\n",
        "    N, T, H = dh_time.shape\n",
        "    I = Wx.shape[0]\n",
        "    self.grads = [np.zeros_like(Wx), np.zeros_like(Wh), np.zeros_like(b)] # 後で足し算をするので作っておく\n",
        "\n",
        "    # 前の層に渡すための出力\n",
        "    dx_time = np.zeros((N, T, I))\n",
        "    \n",
        "    # 時間について逆順に計算\n",
        "    for t in reversed(range(T)):\n",
        "      layer = self.layers[t] # LSTMレイヤーの呼び出し\n",
        "\n",
        "      # 出力層への勾配dh_timeと次の時刻の中間層への勾配dhを足したものを逆伝播\n",
        "      dx, dh = layer.backward(dh_time[:, t, :] + dh)\n",
        "      dx_time[:, t, :] = dx\n",
        "      \n",
        "      self.grads[0] += layer.grads[0]\n",
        "      self.grads[1] += layer.grads[1]\n",
        "      self.grads[2] += layer.grads[2]\n",
        "\n",
        "    return dx_time, dh"
      ],
      "execution_count": 6,
      "outputs": []
    },
    {
      "cell_type": "markdown",
      "metadata": {
        "id": "U2T7_4vrWI-P"
      },
      "source": [
        "## モデルの定義 Definition of the model\n",
        "\n",
        "               入力系列--- TimeRNN --- TimeAffine --- 出力系列\n",
        "\n",
        "\n",
        "という回帰問題のときのモデルを作ってみましょう．回帰問題の出力層では活性化関数は用いません．\n",
        "\n",
        "Let's create a model as\n",
        "\n",
        "               Input Series --- TimeRNN --- TimeAffine --- Output Series\n",
        "\n",
        "for a regression problem\n",
        " In the output layer of the regression problem, we do not use the activation function."
      ]
    },
    {
      "cell_type": "code",
      "metadata": {
        "id": "ooG_q5Xo5V7B"
      },
      "source": [
        "class RNN_model:\n",
        "  def __init__(self, input_size, hidden_size, output_size):\n",
        "    I, H, O = input_size, hidden_size, output_size\n",
        "    self.I, self.H, self.O = I, H, O\n",
        "\n",
        "    # RNNのパラメータ\n",
        "    rnn_Wx = np.random.randn(I, H) / np.sqrt(I)   # He の初期値の真似 \n",
        "    rnn_Wh = np.random.randn(H, H) / np.sqrt(H)   # He の初期値の真似 \n",
        "    rnn_b = np.zeros(H)\n",
        "    \n",
        "    # アファイン層のパラメータ\n",
        "    affine_W = np.random.randn(H, O) / np.sqrt(H)\n",
        "    affine_b = np.zeros(O)\n",
        "\n",
        "    self.params = [rnn_Wx, rnn_Wh, rnn_b, affine_W, affine_b]\n",
        "\n",
        "    # レイヤの生成\n",
        "    self.trnn = TimeRNN(rnn_Wx, rnn_Wh, rnn_b) # RNNレイヤ\n",
        "    self.taffine = TimeAffine(affine_W, affine_b) # Affineレイヤ\n",
        "  \n",
        "\n",
        "  def predict(self, x):\n",
        "    # 損失レイヤ以外の全てのレイヤについて計算する\n",
        "    x, _ = self.trnn.forward(x)\n",
        "    x = self.taffine.forward(x)\n",
        "    return x\n",
        "  \n",
        "  def forward(self, x, t):\n",
        "    # 損失レイヤ以外の全てのレイヤについて計算する\n",
        "    self.pred = self.predict(x)\n",
        "    self.t = t \n",
        "    \n",
        "    # 損失レイヤを計算する\n",
        "    N = x.shape[0]\n",
        "    loss = ((self.pred - t)**2).sum()/(2*N)\n",
        "    return loss\n",
        "\n",
        "  def backward(self):\n",
        "    # 損失レイヤの逆伝播計算\n",
        "    N = self.pred.shape[0]\n",
        "    dout = (self.pred - self.t)/N\n",
        "    \n",
        "    # 損失レイヤ以外の逆伝播計算\n",
        "    dout = self.taffine.backward(dout)\n",
        "    dout, _ = self.trnn.backward(dout)\n",
        "    self.grads = self.trnn.grads + self.taffine.grads\n",
        "    return dout"
      ],
      "execution_count": 7,
      "outputs": []
    },
    {
      "cell_type": "markdown",
      "metadata": {
        "id": "6kh7_lKpaEuD"
      },
      "source": [
        "## 簡単な問題で学習 Learning with a Simple Problem\n",
        "\n",
        "以下のようなデータで一期先を予想するという問題を学習させてみます．\n",
        "\n",
        "\n",
        "Let's try to learn the problem of predicting one term ahead with the following data."
      ]
    },
    {
      "cell_type": "code",
      "metadata": {
        "id": "bw5bzi9GaI6e",
        "colab": {
          "base_uri": "https://localhost:8080/",
          "height": 282
        },
        "outputId": "de6e093c-fa11-4af7-f9ec-e3803e64ea4b"
      },
      "source": [
        "ar = np.arange(0,50,0.1) \n",
        "series = np.sin(ar) * (1+ ar**0.5 )\n",
        "\n",
        "import matplotlib.pyplot as plt\n",
        "\n",
        "plt.plot(ar, series) "
      ],
      "execution_count": 8,
      "outputs": [
        {
          "output_type": "execute_result",
          "data": {
            "text/plain": [
              "[<matplotlib.lines.Line2D at 0x7fec7d8c6e90>]"
            ]
          },
          "metadata": {},
          "execution_count": 8
        },
        {
          "output_type": "display_data",
          "data": {
            "image/png": "[encoded data removed]",
            "text/plain": [
              "<Figure size 432x288 with 1 Axes>"
            ]
          },
          "metadata": {
            "needs_background": "light"
          }
        }
      ]
    },
    {
      "cell_type": "markdown",
      "metadata": {
        "id": "RpAnnRJfdw9p"
      },
      "source": [
        "* 0から399番目までを `x_train` (400, 1)型\n",
        "* 全体を `x_full` (500, 1)型\n",
        "\n",
        "とする\n",
        "\n",
        "We set\n",
        "* 0 to 399th: `x_train` of shape (400, 1)\n",
        "* the whole: `x_full`  of shape (500, 1)"
      ]
    },
    {
      "cell_type": "code",
      "metadata": {
        "id": "k98jfB3qdT0z"
      },
      "source": [
        "x_train = series[:400].reshape(-1,1)\n",
        "x_full = series.reshape(-1,1)"
      ],
      "execution_count": 9,
      "outputs": []
    },
    {
      "cell_type": "code",
      "metadata": {
        "id": "6p52eogMPevP"
      },
      "source": [
        "# ハイパーパラメータの設定\n",
        "\n",
        "batch_size = 30 # バッチサイズ\n",
        "hidden_size = 100 # RNNレイヤのノード数\n",
        "time_size = 20  # ウィンドウサイズ\n",
        "input_size = 1\n",
        "output_size = 1\n",
        "lr = 0.001 # 学習率\n",
        "epochs = 500 # エポックス数"
      ],
      "execution_count": 10,
      "outputs": []
    },
    {
      "cell_type": "code",
      "metadata": {
        "id": "J0FrI0_carxO"
      },
      "source": [
        "np.random.seed(0)\n",
        "\n",
        "xs = x_train[:-1]  # 入力. 1時刻先を予測するので最後のデータは使わない\n",
        "ts = x_train[1:]   # 出力（教師ラベル）. 1時刻先を予測するので最初のデータは使わない\n",
        "\n",
        "# モデルの生成\n",
        "model = RNN_model(1, hidden_size, 1)"
      ],
      "execution_count": 11,
      "outputs": []
    },
    {
      "cell_type": "code",
      "metadata": {
        "id": "a2Zxbktycbsz",
        "colab": {
          "base_uri": "https://localhost:8080/"
        },
        "outputId": "175d916f-569f-4915-9325-ba70bdf6daa9"
      },
      "source": [
        "# 最適化手法の定義\n",
        "optimizer = Adam(lr=lr)\n",
        "\n",
        "# 学習時に使用する変数\n",
        "data_size = len(xs)\n",
        "max_iters = max(data_size // (batch_size * time_size),1) # 1エポックで計算する回数\n",
        "total_loss = 0\n",
        "loss_count = 0\n",
        "train_loss_list = []\n",
        "test_loss_list = []\n",
        "\n",
        "# 学習 \n",
        "for epoch in range(epochs):\n",
        "    for m in range(max_iters):\n",
        "        # ミニバッチの各サンプルの読み込み開始位置を計算\n",
        "        offsets = [np.random.choice(data_size-time_size) for i in range(batch_size)]\n",
        "        # ミニバッチを生成\n",
        "        batch_x = np.zeros((batch_size, time_size,input_size))\n",
        "        batch_t = np.zeros((batch_size, time_size,input_size))\n",
        "        for i, offset in enumerate(offsets):\n",
        "            batch_x[i] = xs[offset: offset+ time_size]  #time_size分の長さの部分列            \n",
        "            batch_t[i] = ts[offset: offset+ time_size]  #time_size分の長さの部分列\n",
        "        \n",
        "        # 勾配を求め、パラメータを更新\n",
        "        loss = model.forward(batch_x, batch_t) # 順伝播計算\n",
        "        model.backward() # 逆伝播計算\n",
        "        optimizer.update(model.params, model.grads) # パラメータの更新\n",
        "        total_loss += loss # ロスの追加\n",
        "        loss_count += 1\n",
        "    \n",
        "    if epoch % 10 == 0:\n",
        "        # 訓練期間の平均損失の算出\n",
        "        ave_loss = total_loss / loss_count\n",
        "        train_loss_list.append(ave_loss)\n",
        "\n",
        "        total_loss, loss_count = 0, 0\n",
        "      \n",
        "        # テスト期間の平均損失の計算\n",
        "        xs_test = x_full[100-time_size:-1]\n",
        "        ts_test = x_full[1+100-time_size:]\n",
        "        data_test_size = len(xs_test)\n",
        "        batch_test_size = data_test_size - time_size\n",
        "\n",
        "        # ミニバッチを生成\n",
        "        batch_test_x = np.zeros((batch_test_size, time_size, input_size))\n",
        "        batch_test_t = np.zeros((batch_test_size, time_size, input_size))\n",
        "\n",
        "        for i in range(batch_test_size):\n",
        "            batch_test_x[i] = xs_test[i:i+time_size]\n",
        "            batch_test_t[i] = ts_test[i:i+time_size]\n",
        "    \n",
        "        # 平均lossを追加\n",
        "        test_loss = model.forward(batch_test_x, batch_test_t)\n",
        "        test_loss_list.append(test_loss)\n",
        "\n",
        "        print('| epoch %d | train loss %.5f | test loss %.5f'% (epoch, ave_loss, test_loss))\n",
        "\n",
        "      "
      ],
      "execution_count": 12,
      "outputs": [
        {
          "output_type": "stream",
          "name": "stdout",
          "text": [
            "| epoch 0 | train loss 173.78696 | test loss 213.45889\n",
            "| epoch 10 | train loss 107.40818 | test loss 101.95842\n",
            "| epoch 20 | train loss 44.15513 | test loss 51.39184\n",
            "| epoch 30 | train loss 21.94487 | test loss 28.67998\n",
            "| epoch 40 | train loss 12.51189 | test loss 17.01003\n",
            "| epoch 50 | train loss 7.43620 | test loss 11.93804\n",
            "| epoch 60 | train loss 4.98928 | test loss 9.30615\n",
            "| epoch 70 | train loss 4.08989 | test loss 7.69299\n",
            "| epoch 80 | train loss 3.11326 | test loss 6.51685\n",
            "| epoch 90 | train loss 2.76172 | test loss 5.64227\n",
            "| epoch 100 | train loss 2.39304 | test loss 4.90908\n",
            "| epoch 110 | train loss 2.14827 | test loss 4.29180\n",
            "| epoch 120 | train loss 1.78169 | test loss 3.82868\n",
            "| epoch 130 | train loss 1.47209 | test loss 3.45679\n",
            "| epoch 140 | train loss 1.31649 | test loss 3.17568\n",
            "| epoch 150 | train loss 1.29169 | test loss 2.94513\n",
            "| epoch 160 | train loss 1.11105 | test loss 2.76027\n",
            "| epoch 170 | train loss 1.14454 | test loss 2.59128\n",
            "| epoch 180 | train loss 1.10526 | test loss 2.44318\n",
            "| epoch 190 | train loss 1.09489 | test loss 2.31787\n",
            "| epoch 200 | train loss 1.08525 | test loss 2.18826\n",
            "| epoch 210 | train loss 0.91712 | test loss 2.08828\n",
            "| epoch 220 | train loss 0.83681 | test loss 2.01590\n",
            "| epoch 230 | train loss 0.87702 | test loss 1.94697\n",
            "| epoch 240 | train loss 0.75080 | test loss 1.88693\n",
            "| epoch 250 | train loss 0.89851 | test loss 1.83226\n",
            "| epoch 260 | train loss 0.79145 | test loss 1.78817\n",
            "| epoch 270 | train loss 0.85983 | test loss 1.74628\n",
            "| epoch 280 | train loss 0.81871 | test loss 1.70017\n",
            "| epoch 290 | train loss 0.79275 | test loss 1.66077\n",
            "| epoch 300 | train loss 0.80655 | test loss 1.62021\n",
            "| epoch 310 | train loss 0.75087 | test loss 1.58629\n",
            "| epoch 320 | train loss 0.81352 | test loss 1.55140\n",
            "| epoch 330 | train loss 0.71761 | test loss 1.52774\n",
            "| epoch 340 | train loss 0.85785 | test loss 1.49580\n",
            "| epoch 350 | train loss 0.69938 | test loss 1.47441\n",
            "| epoch 360 | train loss 0.75939 | test loss 1.46016\n",
            "| epoch 370 | train loss 0.79544 | test loss 1.43234\n",
            "| epoch 380 | train loss 0.81185 | test loss 1.40234\n",
            "| epoch 390 | train loss 0.74875 | test loss 1.38116\n",
            "| epoch 400 | train loss 0.79752 | test loss 1.35863\n",
            "| epoch 410 | train loss 0.72315 | test loss 1.34132\n",
            "| epoch 420 | train loss 0.66965 | test loss 1.32641\n",
            "| epoch 430 | train loss 0.68428 | test loss 1.30800\n",
            "| epoch 440 | train loss 0.71163 | test loss 1.28874\n",
            "| epoch 450 | train loss 0.75369 | test loss 1.27220\n",
            "| epoch 460 | train loss 0.69245 | test loss 1.25630\n",
            "| epoch 470 | train loss 0.68143 | test loss 1.23606\n",
            "| epoch 480 | train loss 0.60814 | test loss 1.22342\n",
            "| epoch 490 | train loss 0.63622 | test loss 1.21765\n"
          ]
        }
      ]
    },
    {
      "cell_type": "markdown",
      "metadata": {
        "id": "FT0gpb9woK1l"
      },
      "source": [
        "### 全期間に渡って1期先を予測 \n",
        "\n",
        "Forecast one term ahead over the entire period"
      ]
    },
    {
      "cell_type": "code",
      "metadata": {
        "id": "-dP29hZoQUr3",
        "colab": {
          "base_uri": "https://localhost:8080/",
          "height": 282
        },
        "outputId": "5500229a-1f36-4fc6-f981-aa1b3eeb7335"
      },
      "source": [
        "xs = x_full[:-1]#.reshape(-1,1)  # 入力. 1時刻先を予測するので、最後のデータは使わない\n",
        "\n",
        "predicts = np.zeros(len(x_full))\n",
        "predicts[:time_size] = x_full[:time_size, 0]\n",
        "\n",
        "for t in range(time_size, len(x_full)):\n",
        "  x_window = xs[t-time_size : t].reshape(1,time_size,1)\n",
        "  # 一つ先の時間を予測する\n",
        "  x_window_next = model.predict(x_window)\n",
        "  # 最後の期の予測値を記録\n",
        "  predicts[t] = x_window_next[0,-1,0]\n",
        "\n",
        "print(ar.shape, predicts.shape)\n",
        "plt.plot(ar,predicts, label = 'predicts')\n",
        "plt.plot(ar,series, label = 'original_data', alpha = 0.7)\n",
        "plt.legend()\n",
        "plt.show()"
      ],
      "execution_count": 13,
      "outputs": [
        {
          "output_type": "stream",
          "name": "stdout",
          "text": [
            "(500,) (500,)\n"
          ]
        },
        {
          "output_type": "display_data",
          "data": {
            "image/png": "[encoded data removed]",
            "text/plain": [
              "<Figure size 432x288 with 1 Axes>"
            ]
          },
          "metadata": {
            "needs_background": "light"
          }
        }
      ]
    },
    {
      "cell_type": "markdown",
      "metadata": {
        "id": "MV2Hjom9c7da"
      },
      "source": [
        "### 学習データだけを使って未来を予測する\n",
        "\n",
        "実際には未来のデータは全く使えないので，自分で予測したデータを使って入力系列を時間方向に一つずつずらしていかなければなりません．最後の100期を予測してみましょう．\n",
        "\n",
        "Predicting the future using only training data\n",
        "\n",
        "Since we can't actually use the future data at all, we have to shift the input series one by one in the time direction using our own forecasted data. Let's try to predict the last 100 periods.\n"
      ]
    },
    {
      "cell_type": "code",
      "metadata": {
        "id": "z3OSGX-DrRBE",
        "colab": {
          "base_uri": "https://localhost:8080/",
          "height": 282
        },
        "outputId": "78a74f5f-c53d-45c4-f07b-4180f35ef120"
      },
      "source": [
        "predicts = np.zeros(len(x_full)-len(x_train))                   #予測値の記録\n",
        "\n",
        "#学習データの最後から始める\n",
        "x_window = x_train[-time_size:].reshape(1,time_size,1)\n",
        "\n",
        "for t in range( len(x_full)-len(x_train)):\n",
        "  # 一つ先の時間を予測する\n",
        "  x_window_new = model.predict(x_window)\n",
        "  \n",
        "  # 最後の期の予測値を記録\n",
        "  predicts[t] = x_window_new[0,-1,0]\n",
        "\n",
        "  # 答えが分かっている範囲はそちらに修正してから次の時刻に進む\n",
        "  x_window_new[0, 0: time_size - 1, 0] = x_window[0, 1: time_size, 0]  \n",
        "  \n",
        "  x_window = x_window_new\n",
        "\n",
        "print(ar.shape, predicts.shape)\n",
        "plt.plot(ar[len(x_train):],predicts, label = 'predicts')\n",
        "plt.plot(ar,series, label = 'original_data', alpha = 0.7)\n",
        "plt.legend()\n",
        "plt.show()\n"
      ],
      "execution_count": 14,
      "outputs": [
        {
          "output_type": "stream",
          "name": "stdout",
          "text": [
            "(500,) (100,)\n"
          ]
        },
        {
          "output_type": "display_data",
          "data": {
            "image/png": "[encoded data removed]",
            "text/plain": [
              "<Figure size 432x288 with 1 Axes>"
            ]
          },
          "metadata": {
            "needs_background": "light"
          }
        }
      ]
    }
  ]
}