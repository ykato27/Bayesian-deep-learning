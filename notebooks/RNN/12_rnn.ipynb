{
  "nbformat": 4,
  "nbformat_minor": 0,
  "metadata": {
    "kernelspec": {
      "display_name": "Python 3",
      "language": "python",
      "name": "python3"
    },
    "language_info": {
      "codemirror_mode": {
        "name": "ipython",
        "version": 3
      },
      "file_extension": ".py",
      "mimetype": "text/x-python",
      "name": "python",
      "nbconvert_exporter": "python",
      "pygments_lexer": "ipython3",
      "version": "3.7.9"
    },
    "colab": {
      "name": "12_rnn.ipynb",
      "provenance": [],
      "collapsed_sections": [],
      "include_colab_link": true
    }
  },
  "cells": [
    {
      "cell_type": "markdown",
      "metadata": {
        "id": "view-in-github",
        "colab_type": "text"
      },
      "source": [
        "<a href=\"https://colab.research.google.com/github/ykato27/Time-Series-Deep-Learning/blob/main/12_rnn.ipynb\" target=\"_parent\"><img src=\"https://colab.research.google.com/assets/colab-badge.svg\" alt=\"Open In Colab\"/></a>"
      ]
    },
    {
      "cell_type": "markdown",
      "metadata": {
        "id": "4NKPzzTPboFQ"
      },
      "source": [
        "# 回帰結合型のニューラルネットワーク（RNN）による電力予測\n",
        "---\n",
        "\n",
        "## 目的\n",
        "Reccurent Neural Network (RNN) を用いて，電力予測の実験を行なう．\n",
        "\n",
        "\n",
        "## 対応するチャプター\n",
        "* 10.2: 回帰結合型ネットワークにおける勾配計算（BPTT）\n",
        "* 10.11: 勾配のクリッピング\n",
        "\n",
        "\n",
        "## モジュールのインポート\n",
        "プログラムの実行に必要なモジュールをインポートします．"
      ]
    },
    {
      "cell_type": "code",
      "metadata": {
        "id": "nSrGzNA4boFZ"
      },
      "source": [
        "import numpy as np\n",
        "import matplotlib.pyplot as plt\n",
        "%matplotlib inline"
      ],
      "execution_count": 1,
      "outputs": []
    },
    {
      "cell_type": "markdown",
      "metadata": {
        "id": "eHJpvvyDboFb"
      },
      "source": [
        "## データのダウンロード\n",
        "プログラムの動作に必要なデータをダウンロードし，zipファイルを解凍します．"
      ]
    },
    {
      "cell_type": "code",
      "metadata": {
        "id": "_7aMoQGMboFc",
        "colab": {
          "base_uri": "https://localhost:8080/"
        },
        "outputId": "4f2d390f-f877-4a9b-8b2f-27cf83ba085c"
      },
      "source": [
        "!wget -q http://www.mprg.cs.chubu.ac.jp/tutorial/ML_Lecture/SOLAR/data.zip -O data.zip\n",
        "!unzip -q -o data.zip\n",
        "!ls -R ./data"
      ],
      "execution_count": 2,
      "outputs": [
        {
          "output_type": "stream",
          "name": "stdout",
          "text": [
            "./data:\n",
            "test  train\n",
            "\n",
            "./data/test:\n",
            "BEMS_RNN_test_data.npy\tBEMS_RNN_test_labels.npy\n",
            "\n",
            "./data/train:\n",
            "BEMS_RNN_train_data.npy  BEMS_RNN_train_labels.npy\n"
          ]
        }
      ]
    },
    {
      "cell_type": "markdown",
      "metadata": {
        "id": "hb3xCmC2boFd"
      },
      "source": [
        "## データの読み込み\n",
        "読み込んだデータを変換します．\n",
        "ここで，delayは何時刻先の電力値を教師信号にするかを決定するためのパラメータです．\n",
        "delay=1と設定した場合，ネットワークへ入力したデータの1時刻先の電力が正解ラベルとなります．\n",
        "\n",
        "データのサイズを確認します．\n",
        "ネットワークへの入力データサイズは34となっており，時刻や曜日などの情報を表現したデータとなっています，出力の値は対応する電力値の1つとなっています．"
      ]
    },
    {
      "cell_type": "code",
      "metadata": {
        "id": "zTIk_aJaboFd",
        "colab": {
          "base_uri": "https://localhost:8080/"
        },
        "outputId": "7cd31807-bab4-497a-b7ff-175306208c56"
      },
      "source": [
        "# データの読み込み\n",
        "train_x = np.load('./data/train/BEMS_RNN_train_data.npy')\n",
        "train_y = np.load('./data/train/BEMS_RNN_train_labels.npy')\n",
        "test_x  = np.load('./data/test/BEMS_RNN_test_data.npy')\n",
        "test_y = np.load('./data/test/BEMS_RNN_test_labels.npy')\n",
        "\n",
        "# 0~1に収まるように正規化\n",
        "train_x = (train_x - (-0.04)) / (1.3 - (-0.04))\n",
        "train_y = (train_y - (-0.04)) / (1.3 - (-0.04))\n",
        "test_x = (test_x - (-0.04)) / (1.3 - (-0.04))\n",
        "test_y = (test_y - (-0.04)) / (1.3 - (-0.04))\n",
        "\n",
        "# 数時刻先の電力が正解データになるように変換\n",
        "delay = 1\n",
        "train_x = np.asarray(train_x[ : -delay])\n",
        "train_y = np.asarray(train_y[delay : ])\n",
        "test_x = np.asarray(test_x[ : -delay])\n",
        "test_y = np.asarray(test_y[delay : ])\n",
        "\n",
        "# データのサイズ確認\n",
        "train_y = train_y.reshape(len(train_y), 1)\n",
        "test_y = test_y.reshape(len(test_y), 1)\n",
        "print(train_x.shape, train_y.shape)\n",
        "print(test_x.shape, test_y.shape)"
      ],
      "execution_count": 3,
      "outputs": [
        {
          "output_type": "stream",
          "name": "stdout",
          "text": [
            "(49999, 34) (49999, 1)\n",
            "(9999, 34) (9999, 1)\n"
          ]
        }
      ]
    },
    {
      "cell_type": "markdown",
      "metadata": {
        "id": "IspPkMUkboFe"
      },
      "source": [
        "## ネットワークモデルの定義\n",
        "次にネットワーク（RNN）を定義します．\n",
        "\n",
        "まずはじめに，ネットワークの定義に必要な関数を定義します．"
      ]
    },
    {
      "cell_type": "code",
      "metadata": {
        "id": "ek9XQhDwboFf"
      },
      "source": [
        "def sigmoid(x):\n",
        "    return 1 / (1 + np.exp(-x))\n",
        "\n",
        "def sigmoid_grad(x):\n",
        "#     return (1.0 - sigmoid(x)) * sigmoid(x)\n",
        "    return (1.0 - x) * x\n",
        "\n",
        "def tanh(x):\n",
        "    return np.tanh(x)\n",
        "\n",
        "def tanh_grad(x):\n",
        "#     return 1.0 - np.tanh(x) * np.tanh(x)\n",
        "    return 1.0 - x**2\n",
        "\n",
        "def fc(x, w, b):\n",
        "    return np.dot(w, x) + b\n",
        "\n",
        "def fc_grad(dout, x, w, b):\n",
        "    dx = np.dot(dout, w.T)\n",
        "    d_w = np.dot(x.T, dout)\n",
        "    d_b = np.sum(dout, axis=0)\n",
        "    return dx, d_w, d_b\n",
        "\n",
        "def mean_squared_error(pred, true):\n",
        "    return np.sum(np.power(pred - true, 2))"
      ],
      "execution_count": 4,
      "outputs": []
    },
    {
      "cell_type": "markdown",
      "metadata": {
        "id": "ra5Xh2zwboFg"
      },
      "source": [
        "次に，上で定義した関数を用いてネットワークを定義します．\n",
        "ここでは，RNN層，出力層から構成されるネットワークとします．\n",
        "\n",
        "入力層と中間層，出力層のユニット数は引数として与え，それぞれ`n_input`，`n_hidden`, `n_out`とします．\n",
        "そして，`__init__`関数を用いて，ネットワークのパラメータを初期化します．\n",
        "下記のプログラムのうち，`w_x`, `w_h`, `w_b`はRNNが持つパラメータを表しています．\n",
        "`w`と`b`はそれぞれ出力層の重みとバイアスを表しています．\n",
        "重みは`randn`関数で，標準正規分布に従った乱数で生成した値を保有する配列を生成します．\n",
        "バイアスは`zeros`関数を用いて，要素が全て0の配列を生成します．\n",
        "\n",
        "そして，`forward`関数で，データを入力して結果を出力するための演算を定義します．\n",
        "\n",
        "次に，`backward`関数ではパラメータの更新量を計算します．\n",
        "まず，ネットワークの出力結果と教師ラベルから，誤差`dy`を算出します．\n",
        "この時，教師ラベルをone-hotベクトルへ変換し，各ユニットの出力との差を取ることで，`dy`を計算しています．\n",
        "その後，連鎖律に基づいて，出力層から順番に勾配を計算していきます．\n",
        "このとき，パラメータの更新量を`self.grads`へ保存しておきます．\n",
        "また，RNNでは時刻間で隠れ層に対する勾配を伝播する必要があるため，\n",
        "`backward`の引数として，1時刻先からの勾配情報を受け取り，前の時刻へ渡す勾配情報を返すようにしています．\n",
        "\n",
        "最後に`update_parameters`関数で，更新量をもとにパラメータの更新を行います．\n",
        "\n",
        "また，各時刻で求めた勾配を累積する必要があるため，`clear_grads`関数で，各パラメータの勾配情報を初期化する関数を定義し，学習時に使用します．\n",
        "\n",
        "`clip_gradients`関数は，獲得した勾配を指定した範囲に収める関数です．\n",
        "LSTMでは，各時刻の勾配を累積するため，勾配量が大きくなり勾配消失や爆発が起きる可能性があります．\n",
        "ここでは，指定した範囲内に勾配を調整し，パラメータを更新することで，消失や爆発を抑制します．"
      ]
    },
    {
      "cell_type": "code",
      "metadata": {
        "id": "N6WVjGxvboFi"
      },
      "source": [
        "class RNN:\n",
        "    \n",
        "    def __init__(self, n_input, n_hidden, n_out, w_std=0.01):\n",
        "        self.n_hidden = n_hidden\n",
        "        \n",
        "        # RNN params\n",
        "        self.w_x = np.random.randn(n_input, n_hidden) * w_std\n",
        "        self.w_h = np.random.randn(n_hidden, n_hidden) * w_std\n",
        "        self.w_b = np.zeros(n_hidden)\n",
        "        \n",
        "        # output layer\n",
        "        self.w = np.random.randn(n_hidden, n_out) * w_std\n",
        "        self.b = np.zeros(n_out)\n",
        "\n",
        "        self.grads = {}\n",
        "        self.clear_grads()\n",
        "        \n",
        "    def forward(self, x, h_prev):\n",
        "        \n",
        "        # RNN layer\n",
        "        self.h = tanh( np.dot(x, self.w_x) + np.dot(h_prev, self.w_h) + self.w_b)\n",
        "        \n",
        "        # output layer\n",
        "        self.y = np.dot(self.h, self.w) + self.b\n",
        "        \n",
        "        variables = {'x': x, 'h_prev': h_prev, 'h': self.h, 'y': self.y}\n",
        "        \n",
        "        return variables, self.h\n",
        "\n",
        "    \n",
        "    def backward(self, in_var, t, d_h_next):\n",
        "        batch_size = in_var['x'].shape[0]\n",
        "        y = in_var['y']\n",
        "\n",
        "        # output (MSE)\n",
        "        dy = (t - y) / batch_size\n",
        "        \n",
        "        # output layer\n",
        "        self.grads['w'] += np.dot(in_var['h'].T, dy)\n",
        "        self.grads['b'] += np.sum(dy, axis=0)\n",
        "        \n",
        "        # RNN layer\n",
        "        d_t = np.dot(dy, self.w.T) + d_h_next\n",
        "        d_t = tanh_grad(d_t) * d_t\n",
        "        d_h_prev = np.dot(d_t, self.w_h)\n",
        "        \n",
        "        self.grads['w_b'] += np.sum(d_t, axis=0)\n",
        "        self.grads['w_h'] += np.dot(in_var['h_prev'].T, d_t)\n",
        "        self.grads['w_x'] = np.dot(in_var['x'].T, d_t)\n",
        "\n",
        "        d_x = np.dot(d_t, self.w_x.T)\n",
        "        \n",
        "        return d_x, d_h_prev\n",
        "        \n",
        "    def update_parameters(self, lr=0.01):\n",
        "        self.w_x += lr * self.grads['w_x']\n",
        "        self.w_h += lr * self.grads['w_h']\n",
        "        self.w_b += lr * self.grads['w_b']\n",
        "        self.w   += lr * self.grads['w'] \n",
        "        self.b   += lr * self.grads['b'] \n",
        "\n",
        "    def clear_grads(self):\n",
        "        self.grads = {'w_x': np.zeros(self.w_x.shape), 'w_h': np.zeros(self.w_h.shape), 'w_b': np.zeros(self.w_b.shape),\n",
        "                      'w': np.zeros(self.w.shape), 'b': np.zeros(self.b.shape)}\n",
        "        \n",
        "    def clip_gradients(self, clip_val=1.0):\n",
        "        for k in self.grads.keys():\n",
        "            self.grads[k] = np.clip(self.grads[k], -clip_val, clip_val)"
      ],
      "execution_count": 5,
      "outputs": []
    },
    {
      "cell_type": "markdown",
      "metadata": {
        "id": "feFcCW4NboFj"
      },
      "source": [
        "## 学習データの変換\n",
        "\n",
        "上で読み込んだ学習・テストデータは電力の推移を表した１つの時系列データとなっているため，この一つの時系列データから，短い時間間隔で区切ったデータを作成することで，学習データの作成を行います．\n",
        "\n",
        "まず，time_windowで1サンプルの時間窓を決定します．\n",
        "今回は10時刻で1サンプルと設定します．\n",
        "その後，指定した時間窓でサンプルを抽出し，convert_train_x, とconvert_train_yへと保存することで，学習データを作成します．"
      ]
    },
    {
      "cell_type": "code",
      "metadata": {
        "id": "B0SeESLaboFk",
        "colab": {
          "base_uri": "https://localhost:8080/"
        },
        "outputId": "3be40917-d886-4864-8cfb-450800588e72"
      },
      "source": [
        "time_window = 10\n",
        "\n",
        "convert_train_x = []\n",
        "convert_train_y = []\n",
        "for idx_frame in range(len(train_x) - time_window):\n",
        "    partial_data = train_x[idx_frame:idx_frame + time_window]\n",
        "    partial_label = train_y[idx_frame:idx_frame + time_window]\n",
        "\n",
        "    convert_train_x.append(partial_data)\n",
        "    convert_train_y.append(partial_label)\n",
        "\n",
        "convert_train_x = np.asarray(convert_train_x)\n",
        "convert_train_y = np.asarray(convert_train_y)\n",
        "\n",
        "print(convert_train_x.shape, convert_train_y.shape)"
      ],
      "execution_count": 6,
      "outputs": [
        {
          "output_type": "stream",
          "name": "stdout",
          "text": [
            "(49989, 10, 34) (49989, 10, 1)\n"
          ]
        }
      ]
    },
    {
      "cell_type": "markdown",
      "metadata": {
        "id": "qpMjyyAqboFk"
      },
      "source": [
        "## ネットワークの作成と学習の準備\n",
        "上で定義したネットワークを作成します．"
      ]
    },
    {
      "cell_type": "code",
      "metadata": {
        "id": "hBlACjHbboFl"
      },
      "source": [
        "n_in = 34\n",
        "n_hidden = 128\n",
        "n_out = 1\n",
        "\n",
        "model = RNN(n_in, n_hidden, n_out)"
      ],
      "execution_count": 7,
      "outputs": []
    },
    {
      "cell_type": "markdown",
      "metadata": {
        "id": "BduP9X8wboFl"
      },
      "source": [
        "## 学習\n",
        "学習を行います．\n",
        "\n",
        "1回の誤差を算出するデータ数（ミニバッチサイズ）を100，学習エポック数を10とします．\n",
        "\n",
        "学習データは毎回ランダムに決定するため，numpyの`permutation`という関数を利用します．\n",
        "各更新において，学習用データと教師データをそれぞれ`x_batch`と`y_batch`とします．\n",
        "\n",
        "まず，RNNに用いる，隠れ状態`h`を初期化します．\n",
        "\n",
        "その後，`x_batch`に含まれる各時刻の入力データを順次LSTMへと入力します．\n",
        "この時，勾配計算のために，各時刻の出力を保存しておきます．\n",
        "\n",
        "その後，`backward`関数を用いて勾配を計算します．\n",
        "まず，1時刻先の勾配として`d_h_next`を初期化します．\n",
        "そして，勾配を計算する前に，`clear_grads`関数を用いて，累積する勾配情報を初期化します．\n",
        "その後，入力とは逆の順番にデータを取得し，backward関数を適用します．\n",
        "\n",
        "勾配の爆発を防ぐために，`clip_gradients`を用いて，一定量に収め，`update_parameters`でパラメータを更新します．"
      ]
    },
    {
      "cell_type": "code",
      "metadata": {
        "id": "ltFCj3atboFm",
        "colab": {
          "base_uri": "https://localhost:8080/"
        },
        "outputId": "3251fcd7-c2f2-431c-d3d7-12063cf6dc4d"
      },
      "source": [
        "train_data_num = convert_train_x.shape[0]\n",
        "batch_size = 100\n",
        "epoch_num = 10\n",
        "\n",
        "iteration = 1\n",
        "for epoch in range(1, epoch_num + 1):\n",
        "    \n",
        "    sum_accuracy = 0.0\n",
        "    sum_loss = 0.0\n",
        "    \n",
        "    perm = np.random.permutation(train_data_num)\n",
        "    for i in range(0, train_data_num, batch_size):\n",
        "        x_batch = convert_train_x[perm[i:i+batch_size]]\n",
        "        y_batch = convert_train_y[perm[i:i+batch_size]]\n",
        "        \n",
        "        # forward\n",
        "        h = np.zeros((x_batch.shape[0], n_hidden))\n",
        "\n",
        "        var_list = []\n",
        "        loss_tmp = 0.0\n",
        "        for i in range(time_window):\n",
        "            var_tmp, h = model.forward(x_batch[:, i, :], h)\n",
        "            loss_tmp += mean_squared_error(sigmoid(var_tmp['y']), y_batch[:, i, :])\n",
        "            var_list.append(var_tmp)\n",
        "\n",
        "        sum_loss  += loss_tmp / time_window\n",
        "\n",
        "        # backward\n",
        "        d_h_next = np.zeros_like(h)\n",
        "        \n",
        "        model.clear_grads()\n",
        "        for i, var_tmp in enumerate(reversed(var_list)):\n",
        "            _, d_h_next = model.backward(var_tmp, y_batch[:, time_window - i - 1, :], d_h_next)\n",
        "        \n",
        "        model.clip_gradients(clip_val=3.0)\n",
        "        model.update_parameters(lr=0.05)\n",
        "    \n",
        "        if iteration % 100 == 0:\n",
        "            print(\"iteration: {}, loss: {}\".format(iteration, loss_tmp / time_window / x_batch.shape[0]))\n",
        "        \n",
        "        iteration += 1\n",
        "        \n",
        "    print(\"epoch: {}, mean loss: {}\".format(epoch, sum_loss / train_data_num))"
      ],
      "execution_count": 8,
      "outputs": [
        {
          "output_type": "stream",
          "name": "stdout",
          "text": [
            "iteration: 100, loss: 0.0914172975052929\n",
            "iteration: 200, loss: 0.09542782430434055\n",
            "iteration: 300, loss: 0.09942456332194473\n",
            "iteration: 400, loss: 0.08304920790569226\n",
            "iteration: 500, loss: 0.0876822466486467\n",
            "epoch: 1, mean loss: 0.08759099115439009\n",
            "iteration: 600, loss: 0.07304759598231823\n",
            "iteration: 700, loss: 0.07808504290507559\n",
            "iteration: 800, loss: 0.08311450798867061\n",
            "iteration: 900, loss: 0.08788585585463135\n",
            "iteration: 1000, loss: 0.07984294468578212\n",
            "epoch: 2, mean loss: 0.08029420553061961\n",
            "iteration: 1100, loss: 0.07666426527914004\n",
            "iteration: 1200, loss: 0.08380555935396278\n",
            "iteration: 1300, loss: 0.07068204201617673\n",
            "iteration: 1400, loss: 0.0781492426210977\n",
            "iteration: 1500, loss: 0.06860493676769654\n",
            "epoch: 3, mean loss: 0.08007264872421632\n",
            "iteration: 1600, loss: 0.08191561069033236\n",
            "iteration: 1700, loss: 0.08345529787400413\n",
            "iteration: 1800, loss: 0.08436400935889388\n",
            "iteration: 1900, loss: 0.0753466685897941\n",
            "iteration: 2000, loss: 0.08407926031016522\n",
            "epoch: 4, mean loss: 0.07997361695309288\n",
            "iteration: 2100, loss: 0.0833892461200762\n",
            "iteration: 2200, loss: 0.08655087343279919\n",
            "iteration: 2300, loss: 0.08599517466160116\n",
            "iteration: 2400, loss: 0.09397060207866188\n",
            "iteration: 2500, loss: 0.06969953876073517\n",
            "epoch: 5, mean loss: 0.07992650115676347\n",
            "iteration: 2600, loss: 0.0770838923427794\n",
            "iteration: 2700, loss: 0.0799964476751895\n",
            "iteration: 2800, loss: 0.0718064516948448\n",
            "iteration: 2900, loss: 0.0681452264745469\n",
            "iteration: 3000, loss: 0.07189143209003496\n",
            "epoch: 6, mean loss: 0.07990416640945482\n",
            "iteration: 3100, loss: 0.07355839624190852\n",
            "iteration: 3200, loss: 0.07331497344107162\n",
            "iteration: 3300, loss: 0.07612937052951384\n",
            "iteration: 3400, loss: 0.08533593943031136\n",
            "iteration: 3500, loss: 0.08660845163168725\n",
            "epoch: 7, mean loss: 0.07989782476793161\n",
            "iteration: 3600, loss: 0.08233535840853501\n",
            "iteration: 3700, loss: 0.08351465772309584\n",
            "iteration: 3800, loss: 0.07929909837565828\n",
            "iteration: 3900, loss: 0.07956898298618356\n",
            "iteration: 4000, loss: 0.08598302952529534\n",
            "epoch: 8, mean loss: 0.07988932951226071\n",
            "iteration: 4100, loss: 0.08670252775078363\n",
            "iteration: 4200, loss: 0.08756775337419692\n",
            "iteration: 4300, loss: 0.08482247935614103\n",
            "iteration: 4400, loss: 0.07336486647173174\n",
            "iteration: 4500, loss: 0.08675306243058566\n",
            "epoch: 9, mean loss: 0.0798852881096219\n",
            "iteration: 4600, loss: 0.0764739503616218\n",
            "iteration: 4700, loss: 0.07725945912331342\n",
            "iteration: 4800, loss: 0.07616098274913961\n",
            "iteration: 4900, loss: 0.07932173031672297\n",
            "iteration: 5000, loss: 0.07930809328668968\n",
            "epoch: 10, mean loss: 0.07988056547628346\n"
          ]
        }
      ]
    },
    {
      "cell_type": "markdown",
      "metadata": {
        "id": "Kd6LqLyrboFn"
      },
      "source": [
        "## テスト\n",
        "学習したネットワークを用いて，テストデータに対する出力結果の確認を行います．"
      ]
    },
    {
      "cell_type": "code",
      "metadata": {
        "id": "OQwP3bCjboFn",
        "colab": {
          "base_uri": "https://localhost:8080/",
          "height": 266
        },
        "outputId": "e54624b4-e8b2-4a7d-88ce-6c9bbc1048cc"
      },
      "source": [
        "convert_test_x = test_x.reshape(1, 9999, 34)\n",
        "convert_test_y = test_y.reshape(1, 9999, 1)\n",
        "\n",
        "h = np.zeros((convert_test_x.shape[0], n_hidden))\n",
        "\n",
        "result = []\n",
        "for i in range(convert_test_x.shape[1]):\n",
        "    var_tmp, h = model.forward(convert_test_x[:, i, :], h)\n",
        "    result.append(var_tmp['y'])\n",
        "\n",
        "prediction_result = np.array(result).flatten()\n",
        "\n",
        "plt.figure()\n",
        "plt.plot(test_y.tolist(), color='red', label='true')\n",
        "plt.plot(prediction_result.tolist(), color='blue', label='pred')\n",
        "plt.legend()\n",
        "plt.show()"
      ],
      "execution_count": 9,
      "outputs": [
        {
          "output_type": "display_data",
          "data": {
            "image/png": "[encoded data removed]",
            "text/plain": [
              "<Figure size 432x288 with 1 Axes>"
            ]
          },
          "metadata": {
            "needs_background": "light"
          }
        }
      ]
    }
  ]
}