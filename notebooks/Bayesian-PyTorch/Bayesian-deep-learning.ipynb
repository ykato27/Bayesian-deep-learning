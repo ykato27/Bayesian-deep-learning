{
 "cells": [
  {
   "cell_type": "markdown",
   "metadata": {},
   "source": [
    "## Bayesian PyTorch\n",
    "ディープベイジアン学習のためのライブラリ"
   ]
  },
  {
   "cell_type": "code",
   "execution_count": 1,
   "metadata": {},
   "outputs": [],
   "source": [
    "%load_ext lab_black"
   ]
  },
  {
   "cell_type": "code",
   "execution_count": 2,
   "metadata": {},
   "outputs": [],
   "source": [
    "from blitz.modules import BayesianLSTM\n",
    "from blitz.utils import variational_estimator\n",
    "import matplotlib.pyplot as plt\n",
    "import numpy as np\n",
    "import pandas as pd\n",
    "from sklearn.model_selection import train_test_split\n",
    "from sklearn.preprocessing import StandardScaler\n",
    "import torch\n",
    "import torch.nn as nn\n",
    "import torch.nn.functional as F\n",
    "import torch.optim as optim\n",
    "\n",
    "\n",
    "%matplotlib inline\n",
    "\n",
    "from collections import deque"
   ]
  },
  {
   "cell_type": "code",
   "execution_count": 3,
   "metadata": {},
   "outputs": [
    {
     "data": {
      "text/html": [
       "<div>\n",
       "<style scoped>\n",
       "    .dataframe tbody tr th:only-of-type {\n",
       "        vertical-align: middle;\n",
       "    }\n",
       "\n",
       "    .dataframe tbody tr th {\n",
       "        vertical-align: top;\n",
       "    }\n",
       "\n",
       "    .dataframe thead th {\n",
       "        text-align: right;\n",
       "    }\n",
       "</style>\n",
       "<table border=\"1\" class=\"dataframe\">\n",
       "  <thead>\n",
       "    <tr style=\"text-align: right;\">\n",
       "      <th></th>\n",
       "      <th>Date</th>\n",
       "      <th>High</th>\n",
       "      <th>Low</th>\n",
       "      <th>Open</th>\n",
       "      <th>Close</th>\n",
       "      <th>Volume</th>\n",
       "      <th>Adj Close</th>\n",
       "    </tr>\n",
       "  </thead>\n",
       "  <tbody>\n",
       "    <tr>\n",
       "      <th>0</th>\n",
       "      <td>2005-01-03</td>\n",
       "      <td>99.099998</td>\n",
       "      <td>97.250000</td>\n",
       "      <td>98.970001</td>\n",
       "      <td>97.750000</td>\n",
       "      <td>5295200.0</td>\n",
       "      <td>62.015755</td>\n",
       "    </tr>\n",
       "    <tr>\n",
       "      <th>1</th>\n",
       "      <td>2005-01-04</td>\n",
       "      <td>98.419998</td>\n",
       "      <td>96.519997</td>\n",
       "      <td>97.739998</td>\n",
       "      <td>96.699997</td>\n",
       "      <td>5711000.0</td>\n",
       "      <td>61.349598</td>\n",
       "    </tr>\n",
       "    <tr>\n",
       "      <th>2</th>\n",
       "      <td>2005-01-05</td>\n",
       "      <td>97.830002</td>\n",
       "      <td>96.400002</td>\n",
       "      <td>96.599998</td>\n",
       "      <td>96.500000</td>\n",
       "      <td>5646700.0</td>\n",
       "      <td>61.222687</td>\n",
       "    </tr>\n",
       "    <tr>\n",
       "      <th>3</th>\n",
       "      <td>2005-01-06</td>\n",
       "      <td>96.980003</td>\n",
       "      <td>96.050003</td>\n",
       "      <td>96.540001</td>\n",
       "      <td>96.199997</td>\n",
       "      <td>4561700.0</td>\n",
       "      <td>61.032352</td>\n",
       "    </tr>\n",
       "    <tr>\n",
       "      <th>4</th>\n",
       "      <td>2005-01-07</td>\n",
       "      <td>96.800003</td>\n",
       "      <td>95.470001</td>\n",
       "      <td>96.500000</td>\n",
       "      <td>95.779999</td>\n",
       "      <td>6200700.0</td>\n",
       "      <td>60.765919</td>\n",
       "    </tr>\n",
       "    <tr>\n",
       "      <th>...</th>\n",
       "      <td>...</td>\n",
       "      <td>...</td>\n",
       "      <td>...</td>\n",
       "      <td>...</td>\n",
       "      <td>...</td>\n",
       "      <td>...</td>\n",
       "      <td>...</td>\n",
       "    </tr>\n",
       "    <tr>\n",
       "      <th>4227</th>\n",
       "      <td>2021-10-18</td>\n",
       "      <td>144.940002</td>\n",
       "      <td>141.759995</td>\n",
       "      <td>144.000000</td>\n",
       "      <td>142.320007</td>\n",
       "      <td>6154100.0</td>\n",
       "      <td>142.320007</td>\n",
       "    </tr>\n",
       "    <tr>\n",
       "      <th>4228</th>\n",
       "      <td>2021-10-19</td>\n",
       "      <td>142.940002</td>\n",
       "      <td>140.520004</td>\n",
       "      <td>141.080002</td>\n",
       "      <td>141.979996</td>\n",
       "      <td>4339500.0</td>\n",
       "      <td>141.979996</td>\n",
       "    </tr>\n",
       "    <tr>\n",
       "      <th>4229</th>\n",
       "      <td>2021-10-20</td>\n",
       "      <td>142.199997</td>\n",
       "      <td>140.699997</td>\n",
       "      <td>141.679993</td>\n",
       "      <td>141.899994</td>\n",
       "      <td>6189300.0</td>\n",
       "      <td>141.899994</td>\n",
       "    </tr>\n",
       "    <tr>\n",
       "      <th>4230</th>\n",
       "      <td>2021-10-21</td>\n",
       "      <td>133.720001</td>\n",
       "      <td>128.100006</td>\n",
       "      <td>133.509995</td>\n",
       "      <td>128.330002</td>\n",
       "      <td>31466500.0</td>\n",
       "      <td>128.330002</td>\n",
       "    </tr>\n",
       "    <tr>\n",
       "      <th>4231</th>\n",
       "      <td>2021-10-22</td>\n",
       "      <td>130.250000</td>\n",
       "      <td>126.610001</td>\n",
       "      <td>128.050003</td>\n",
       "      <td>127.879997</td>\n",
       "      <td>11569200.0</td>\n",
       "      <td>127.879997</td>\n",
       "    </tr>\n",
       "  </tbody>\n",
       "</table>\n",
       "<p>4232 rows × 7 columns</p>\n",
       "</div>"
      ],
      "text/plain": [
       "           Date        High         Low        Open       Close      Volume  \\\n",
       "0    2005-01-03   99.099998   97.250000   98.970001   97.750000   5295200.0   \n",
       "1    2005-01-04   98.419998   96.519997   97.739998   96.699997   5711000.0   \n",
       "2    2005-01-05   97.830002   96.400002   96.599998   96.500000   5646700.0   \n",
       "3    2005-01-06   96.980003   96.050003   96.540001   96.199997   4561700.0   \n",
       "4    2005-01-07   96.800003   95.470001   96.500000   95.779999   6200700.0   \n",
       "...         ...         ...         ...         ...         ...         ...   \n",
       "4227 2021-10-18  144.940002  141.759995  144.000000  142.320007   6154100.0   \n",
       "4228 2021-10-19  142.940002  140.520004  141.080002  141.979996   4339500.0   \n",
       "4229 2021-10-20  142.199997  140.699997  141.679993  141.899994   6189300.0   \n",
       "4230 2021-10-21  133.720001  128.100006  133.509995  128.330002  31466500.0   \n",
       "4231 2021-10-22  130.250000  126.610001  128.050003  127.879997  11569200.0   \n",
       "\n",
       "       Adj Close  \n",
       "0      62.015755  \n",
       "1      61.349598  \n",
       "2      61.222687  \n",
       "3      61.032352  \n",
       "4      60.765919  \n",
       "...          ...  \n",
       "4227  142.320007  \n",
       "4228  141.979996  \n",
       "4229  141.899994  \n",
       "4230  128.330002  \n",
       "4231  127.879997  \n",
       "\n",
       "[4232 rows x 7 columns]"
      ]
     },
     "execution_count": 3,
     "metadata": {},
     "output_type": "execute_result"
    }
   ],
   "source": [
    "import pandas_datareader.data as web\n",
    "\n",
    "df = web.DataReader(\"IBM\", \"yahoo\", \"2005/1/1\").dropna()\n",
    "df = df.rename_axis(\"Date\").reset_index()\n",
    "df"
   ]
  },
  {
   "cell_type": "code",
   "execution_count": 4,
   "metadata": {},
   "outputs": [],
   "source": [
    "window_size = 21"
   ]
  },
  {
   "cell_type": "code",
   "execution_count": 5,
   "metadata": {},
   "outputs": [],
   "source": [
    "close_prices = df[\"Close\"]\n",
    "scaler = StandardScaler()\n",
    "\n",
    "close_prices_arr = np.array(close_prices).reshape(-1, 1)\n",
    "close_prices = scaler.fit_transform(close_prices_arr)\n",
    "\n",
    "close_prices_unscaled = df[\"Close\"]"
   ]
  },
  {
   "cell_type": "code",
   "execution_count": 6,
   "metadata": {},
   "outputs": [],
   "source": [
    "def create_timestamps_ds(series, timestep_size=window_size):\n",
    "    time_stamps = []\n",
    "    labels = []\n",
    "    aux_deque = deque(maxlen=timestep_size)\n",
    "\n",
    "    # starting the timestep deque\n",
    "    for i in range(timestep_size):\n",
    "        aux_deque.append(0)\n",
    "\n",
    "    # feed the timestamps list\n",
    "    for i in range(len(series) - 1):\n",
    "        aux_deque.append(series[i])\n",
    "        time_stamps.append(list(aux_deque))\n",
    "\n",
    "    # feed the labels lsit\n",
    "    for i in range(len(series) - 1):\n",
    "        labels.append(series[i + 1])\n",
    "\n",
    "    assert len(time_stamps) == len(labels), \"Something went wrong\"\n",
    "\n",
    "    # torch-tensoring it\n",
    "    features = torch.tensor(time_stamps[timestep_size:]).float()\n",
    "    labels = torch.tensor(labels[timestep_size:]).float()\n",
    "\n",
    "    return features, labels"
   ]
  },
  {
   "cell_type": "code",
   "execution_count": 7,
   "metadata": {},
   "outputs": [],
   "source": [
    "@variational_estimator\n",
    "class NN(nn.Module):\n",
    "    def __init__(self):\n",
    "        super(NN, self).__init__()\n",
    "        self.lstm_1 = BayesianLSTM(\n",
    "            1, 10, prior_sigma_1=1, prior_pi=1, posterior_rho_init=-3.0\n",
    "        )\n",
    "        self.linear = nn.Linear(10, 1)\n",
    "\n",
    "    def forward(self, x):\n",
    "        x_, _ = self.lstm_1(x)\n",
    "\n",
    "        # gathering only the latent end-of-sequence for the linear layer\n",
    "        x_ = x_[:, -1, :]\n",
    "        x_ = self.linear(x_)\n",
    "        return x_"
   ]
  },
  {
   "cell_type": "code",
   "execution_count": 8,
   "metadata": {},
   "outputs": [
    {
     "name": "stderr",
     "output_type": "stream",
     "text": [
      "/tmp/ipykernel_68/2927849213.py:22: UserWarning: Creating a tensor from a list of numpy.ndarrays is extremely slow. Please consider converting the list to a single numpy.ndarray with numpy.array() before converting to a tensor. (Triggered internally at  ../torch/csrc/utils/tensor_new.cpp:201.)\n",
      "  features = torch.tensor(time_stamps[timestep_size:]).float()\n"
     ]
    }
   ],
   "source": [
    "Xs, ys = create_timestamps_ds(close_prices)\n",
    "X_train, X_test, y_train, y_test = train_test_split(\n",
    "    Xs, ys, test_size=0.25, random_state=42, shuffle=False\n",
    ")\n",
    "\n",
    "\n",
    "ds = torch.utils.data.TensorDataset(X_train, y_train)\n",
    "dataloader_train = torch.utils.data.DataLoader(ds, batch_size=8, shuffle=True)\n",
    "\n",
    "net = NN()\n",
    "\n",
    "criterion = nn.MSELoss()\n",
    "optimizer = optim.Adam(net.parameters(), lr=0.001)"
   ]
  },
  {
   "cell_type": "code",
   "execution_count": 9,
   "metadata": {},
   "outputs": [
    {
     "name": "stdout",
     "output_type": "stream",
     "text": [
      "Iteration: 250 Val-loss: 0.0586\n",
      "Iteration: 500 Val-loss: 0.0100\n",
      "Iteration: 750 Val-loss: 0.0083\n",
      "Iteration: 1000 Val-loss: 0.0188\n",
      "Iteration: 1250 Val-loss: 0.0107\n",
      "Iteration: 1500 Val-loss: 0.0071\n",
      "Iteration: 1750 Val-loss: 0.0100\n",
      "Iteration: 2000 Val-loss: 0.0070\n",
      "Iteration: 2250 Val-loss: 0.0133\n",
      "Iteration: 2500 Val-loss: 0.0061\n",
      "Iteration: 2750 Val-loss: 0.0055\n",
      "Iteration: 3000 Val-loss: 0.0052\n",
      "Iteration: 3250 Val-loss: 0.0101\n",
      "Iteration: 3500 Val-loss: 0.0067\n",
      "Iteration: 3750 Val-loss: 0.0101\n"
     ]
    }
   ],
   "source": [
    "iteration = 0\n",
    "for epoch in range(10):\n",
    "    for i, (datapoints, labels) in enumerate(dataloader_train):\n",
    "        optimizer.zero_grad()\n",
    "\n",
    "        loss = net.sample_elbo(\n",
    "            inputs=datapoints,\n",
    "            labels=labels,\n",
    "            criterion=criterion,\n",
    "            sample_nbr=3,\n",
    "            complexity_cost_weight=1 / X_train.shape[0],\n",
    "        )\n",
    "        loss.backward()\n",
    "        optimizer.step()\n",
    "\n",
    "        iteration += 1\n",
    "        if iteration % 250 == 0:\n",
    "            preds_test = net(X_test)[:, 0].unsqueeze(1)\n",
    "            loss_test = criterion(preds_test, y_test)\n",
    "            print(\"Iteration: {} Val-loss: {:.4f}\".format(str(iteration), loss_test))"
   ]
  },
  {
   "cell_type": "code",
   "execution_count": 10,
   "metadata": {},
   "outputs": [
    {
     "data": {
      "text/plain": [
       "22       93.540001\n",
       "23       94.510002\n",
       "24       94.529999\n",
       "25       94.129997\n",
       "26       92.699997\n",
       "           ...    \n",
       "4227    142.320007\n",
       "4228    141.979996\n",
       "4229    141.899994\n",
       "4230    128.330002\n",
       "4231    127.879997\n",
       "Name: Close, Length: 4210, dtype: float64"
      ]
     },
     "execution_count": 10,
     "metadata": {},
     "output_type": "execute_result"
    }
   ],
   "source": [
    "# pred_unscaled\n",
    "original = close_prices_unscaled[1:][window_size:]\n",
    "original"
   ]
  },
  {
   "cell_type": "code",
   "execution_count": 11,
   "metadata": {},
   "outputs": [],
   "source": [
    "df_pred = pd.DataFrame(original)\n",
    "df_pred[\"Date\"] = df.Date\n",
    "df[\"Date\"] = pd.to_datetime(df_pred[\"Date\"])\n",
    "df_pred = df_pred.reset_index()\n",
    "# df_pred = df_pred.set_index('Date')"
   ]
  },
  {
   "cell_type": "code",
   "execution_count": 12,
   "metadata": {},
   "outputs": [],
   "source": [
    "def pred_stock_future(X_test, future_lengthx, sample_nbr=10):\n",
    "\n",
    "    # sorry for that, window_size is a global variable, and so are X_train and Xs\n",
    "    global window_size\n",
    "    global X_train\n",
    "    global Xs\n",
    "    global scaler\n",
    "\n",
    "    # creating auxiliar variables for future prediction\n",
    "    preds_test = []\n",
    "    test_begin = X_test[0:1, :, :]\n",
    "    test_deque = deque(test_begin[0, :, 0].tolist(), maxlen=window_size)\n",
    "\n",
    "    idx_pred = np.arange(len(X_train), len(Xs))\n",
    "\n",
    "    # predict it and append to list\n",
    "    for i in range(len(X_test)):\n",
    "        # print(i)\n",
    "        as_net_input = torch.tensor(test_deque).unsqueeze(0).unsqueeze(2)\n",
    "        pred = [net(as_net_input).cpu().item() for i in range(sample_nbr)]\n",
    "\n",
    "        test_deque.append(torch.tensor(pred).mean().cpu().item())\n",
    "        preds_test.append(pred)\n",
    "\n",
    "        if i % future_length == 0:\n",
    "            # our inptus become the i index of our X_test\n",
    "            # That tweak just helps us with shape issues\n",
    "            test_begin = X_test[i : i + 1, :, :]\n",
    "            test_deque = deque(test_begin[0, :, 0].tolist(), maxlen=window_size)\n",
    "\n",
    "    # preds_test = np.array(preds_test).reshape(-1, 1)\n",
    "    # preds_test_unscaled = scaler.inverse_transform(preds_test)\n",
    "\n",
    "    return idx_pred, preds_test"
   ]
  },
  {
   "cell_type": "code",
   "execution_count": 13,
   "metadata": {},
   "outputs": [],
   "source": [
    "def get_confidence_intervals(preds_test, ci_multiplier):\n",
    "    global scaler\n",
    "\n",
    "    preds_test = torch.tensor(preds_test)\n",
    "\n",
    "    pred_mean = preds_test.mean(1)\n",
    "    pred_std = preds_test.std(1).detach().cpu().numpy()\n",
    "\n",
    "    pred_std = torch.tensor((pred_std))\n",
    "    # print(pred_std)\n",
    "\n",
    "    upper_bound = pred_mean + (pred_std * ci_multiplier)\n",
    "    lower_bound = pred_mean - (pred_std * ci_multiplier)\n",
    "    # gather unscaled confidence intervals\n",
    "\n",
    "    pred_mean_final = pred_mean.unsqueeze(1).detach().cpu().numpy()\n",
    "    pred_mean_unscaled = scaler.inverse_transform(pred_mean_final)\n",
    "\n",
    "    upper_bound_unscaled = upper_bound.unsqueeze(1).detach().cpu().numpy()\n",
    "    upper_bound_unscaled = scaler.inverse_transform(upper_bound_unscaled)\n",
    "\n",
    "    lower_bound_unscaled = lower_bound.unsqueeze(1).detach().cpu().numpy()\n",
    "    lower_bound_unscaled = scaler.inverse_transform(lower_bound_unscaled)\n",
    "\n",
    "    return pred_mean_unscaled, upper_bound_unscaled, lower_bound_unscaled"
   ]
  },
  {
   "cell_type": "code",
   "execution_count": 14,
   "metadata": {},
   "outputs": [],
   "source": [
    "future_length = 7\n",
    "sample_nbr = 4\n",
    "ci_multiplier = 5\n",
    "idx_pred, preds_test = pred_stock_future(X_test, future_length, sample_nbr)\n",
    "(\n",
    "    pred_mean_unscaled,\n",
    "    upper_bound_unscaled,\n",
    "    lower_bound_unscaled,\n",
    ") = get_confidence_intervals(preds_test, ci_multiplier)"
   ]
  },
  {
   "cell_type": "code",
   "execution_count": 15,
   "metadata": {},
   "outputs": [
    {
     "name": "stdout",
     "output_type": "stream",
     "text": [
      "0.8005698005698005 our predictions are in our confidence interval\n"
     ]
    }
   ],
   "source": [
    "y = np.array(df.Close[-1053:]).reshape(-1, 1)\n",
    "under_upper = upper_bound_unscaled > y\n",
    "over_lower = lower_bound_unscaled < y\n",
    "total = under_upper == over_lower\n",
    "\n",
    "print(\"{} our predictions are in our confidence interval\".format(np.mean(total)))"
   ]
  },
  {
   "cell_type": "code",
   "execution_count": 16,
   "metadata": {},
   "outputs": [
    {
     "data": {
      "text/plain": [
       "<matplotlib.legend.Legend at 0x7fc2c7510f40>"
      ]
     },
     "execution_count": 16,
     "metadata": {},
     "output_type": "execute_result"
    },
    {
     "data": {
      "image/png": "[encoded data removed]",
      "text/plain": [
       "<Figure size 432x288 with 1 Axes>"
      ]
     },
     "metadata": {
      "needs_background": "dark"
     },
     "output_type": "display_data"
    }
   ],
   "source": [
    "params = {\n",
    "    \"ytick.color\": \"w\",\n",
    "    \"xtick.color\": \"w\",\n",
    "    \"axes.labelcolor\": \"w\",\n",
    "    \"axes.edgecolor\": \"w\",\n",
    "}\n",
    "\n",
    "plt.rcParams.update(params)\n",
    "\n",
    "plt.title(\"IBM Stock prices\", color=\"white\")\n",
    "\n",
    "plt.plot(df_pred.index, df_pred.Close, color=\"black\", label=\"Real\")\n",
    "\n",
    "plt.plot(\n",
    "    idx_pred,\n",
    "    pred_mean_unscaled,\n",
    "    label=\"Prediction for {} days, than consult\".format(future_length),\n",
    "    color=\"red\",\n",
    ")\n",
    "\n",
    "plt.fill_between(\n",
    "    x=idx_pred,\n",
    "    y1=upper_bound_unscaled[:, 0],\n",
    "    y2=lower_bound_unscaled[:, 0],\n",
    "    facecolor=\"green\",\n",
    "    label=\"Confidence interval\",\n",
    "    alpha=0.5,\n",
    ")\n",
    "\n",
    "plt.legend()"
   ]
  },
  {
   "cell_type": "code",
   "execution_count": 17,
   "metadata": {},
   "outputs": [
    {
     "data": {
      "text/plain": [
       "<matplotlib.legend.Legend at 0x7fc2c7565a00>"
      ]
     },
     "execution_count": 17,
     "metadata": {},
     "output_type": "execute_result"
    },
    {
     "data": {
      "image/png": "[encoded data removed]",
      "text/plain": [
       "<Figure size 432x288 with 1 Axes>"
      ]
     },
     "metadata": {
      "needs_background": "dark"
     },
     "output_type": "display_data"
    }
   ],
   "source": [
    "params = {\n",
    "    \"ytick.color\": \"w\",\n",
    "    \"xtick.color\": \"w\",\n",
    "    \"axes.labelcolor\": \"w\",\n",
    "    \"axes.edgecolor\": \"w\",\n",
    "}\n",
    "plt.rcParams.update(params)\n",
    "\n",
    "plt.title(\"IBM Stock prices\", color=\"white\")\n",
    "\n",
    "\n",
    "plt.fill_between(\n",
    "    x=idx_pred,\n",
    "    y1=upper_bound_unscaled[:, 0],\n",
    "    y2=lower_bound_unscaled[:, 0],\n",
    "    facecolor=\"green\",\n",
    "    label=\"Confidence interval\",\n",
    "    alpha=0.75,\n",
    ")\n",
    "\n",
    "plt.plot(\n",
    "    idx_pred,\n",
    "    df_pred.Close[-len(pred_mean_unscaled) :],\n",
    "    label=\"Real\",\n",
    "    alpha=1,\n",
    "    color=\"black\",\n",
    "    linewidth=0.5,\n",
    ")\n",
    "\n",
    "plt.plot(\n",
    "    idx_pred,\n",
    "    pred_mean_unscaled,\n",
    "    label=\"Prediction for {} days, than consult\".format(future_length),\n",
    "    color=\"red\",\n",
    "    alpha=0.5,\n",
    ")\n",
    "\n",
    "plt.legend()"
   ]
  },
  {
   "cell_type": "code",
   "execution_count": null,
   "metadata": {},
   "outputs": [],
   "source": []
  }
 ],
 "metadata": {
  "kernelspec": {
   "display_name": "Python 3 (ipykernel)",
   "language": "python",
   "name": "python3"
  },
  "language_info": {
   "codemirror_mode": {
    "name": "ipython",
    "version": 3
   },
   "file_extension": ".py",
   "mimetype": "text/x-python",
   "name": "python",
   "nbconvert_exporter": "python",
   "pygments_lexer": "ipython3",
   "version": "3.9.6"
  }
 },
 "nbformat": 4,
 "nbformat_minor": 4
}
