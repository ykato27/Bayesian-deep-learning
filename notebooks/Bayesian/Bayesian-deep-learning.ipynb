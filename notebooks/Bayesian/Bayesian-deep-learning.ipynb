{
 "cells": [
  {
   "cell_type": "code",
   "execution_count": 1,
   "metadata": {},
   "outputs": [],
   "source": [
    "%load_ext lab_black"
   ]
  },
  {
   "cell_type": "code",
   "execution_count": 2,
   "metadata": {},
   "outputs": [],
   "source": [
    "from blitz.modules import BayesianLSTM\n",
    "from blitz.utils import variational_estimator\n",
    "import matplotlib.pyplot as plt\n",
    "import numpy as np\n",
    "import pandas as pd\n",
    "from sklearn.model_selection import train_test_split\n",
    "from sklearn.preprocessing import StandardScaler\n",
    "import torch\n",
    "import torch.nn as nn\n",
    "import torch.nn.functional as F\n",
    "import torch.optim as optim\n",
    "\n",
    "\n",
    "%matplotlib inline\n",
    "\n",
    "from collections import deque"
   ]
  },
  {
   "cell_type": "code",
   "execution_count": 3,
   "metadata": {},
   "outputs": [
    {
     "data": {
      "text/html": [
       "<div>\n",
       "<style scoped>\n",
       "    .dataframe tbody tr th:only-of-type {\n",
       "        vertical-align: middle;\n",
       "    }\n",
       "\n",
       "    .dataframe tbody tr th {\n",
       "        vertical-align: top;\n",
       "    }\n",
       "\n",
       "    .dataframe thead th {\n",
       "        text-align: right;\n",
       "    }\n",
       "</style>\n",
       "<table border=\"1\" class=\"dataframe\">\n",
       "  <thead>\n",
       "    <tr style=\"text-align: right;\">\n",
       "      <th></th>\n",
       "      <th>Date</th>\n",
       "      <th>High</th>\n",
       "      <th>Low</th>\n",
       "      <th>Open</th>\n",
       "      <th>Close</th>\n",
       "      <th>Volume</th>\n",
       "      <th>Adj Close</th>\n",
       "    </tr>\n",
       "  </thead>\n",
       "  <tbody>\n",
       "    <tr>\n",
       "      <th>0</th>\n",
       "      <td>2005-01-03</td>\n",
       "      <td>99.099998</td>\n",
       "      <td>97.250000</td>\n",
       "      <td>98.970001</td>\n",
       "      <td>97.750000</td>\n",
       "      <td>5295200.0</td>\n",
       "      <td>62.729687</td>\n",
       "    </tr>\n",
       "    <tr>\n",
       "      <th>1</th>\n",
       "      <td>2005-01-04</td>\n",
       "      <td>98.419998</td>\n",
       "      <td>96.519997</td>\n",
       "      <td>97.739998</td>\n",
       "      <td>96.699997</td>\n",
       "      <td>5711000.0</td>\n",
       "      <td>62.055878</td>\n",
       "    </tr>\n",
       "    <tr>\n",
       "      <th>2</th>\n",
       "      <td>2005-01-05</td>\n",
       "      <td>97.830002</td>\n",
       "      <td>96.400002</td>\n",
       "      <td>96.599998</td>\n",
       "      <td>96.500000</td>\n",
       "      <td>5646700.0</td>\n",
       "      <td>61.927532</td>\n",
       "    </tr>\n",
       "    <tr>\n",
       "      <th>3</th>\n",
       "      <td>2005-01-06</td>\n",
       "      <td>96.980003</td>\n",
       "      <td>96.050003</td>\n",
       "      <td>96.540001</td>\n",
       "      <td>96.199997</td>\n",
       "      <td>4561700.0</td>\n",
       "      <td>61.735004</td>\n",
       "    </tr>\n",
       "    <tr>\n",
       "      <th>4</th>\n",
       "      <td>2005-01-07</td>\n",
       "      <td>96.800003</td>\n",
       "      <td>95.470001</td>\n",
       "      <td>96.500000</td>\n",
       "      <td>95.779999</td>\n",
       "      <td>6200700.0</td>\n",
       "      <td>61.465485</td>\n",
       "    </tr>\n",
       "    <tr>\n",
       "      <th>...</th>\n",
       "      <td>...</td>\n",
       "      <td>...</td>\n",
       "      <td>...</td>\n",
       "      <td>...</td>\n",
       "      <td>...</td>\n",
       "      <td>...</td>\n",
       "      <td>...</td>\n",
       "    </tr>\n",
       "    <tr>\n",
       "      <th>4129</th>\n",
       "      <td>2021-05-28</td>\n",
       "      <td>144.330002</td>\n",
       "      <td>143.490005</td>\n",
       "      <td>144.210007</td>\n",
       "      <td>143.740005</td>\n",
       "      <td>2534600.0</td>\n",
       "      <td>143.740005</td>\n",
       "    </tr>\n",
       "    <tr>\n",
       "      <th>4130</th>\n",
       "      <td>2021-06-01</td>\n",
       "      <td>145.830002</td>\n",
       "      <td>143.750000</td>\n",
       "      <td>145.000000</td>\n",
       "      <td>144.190002</td>\n",
       "      <td>2417500.0</td>\n",
       "      <td>144.190002</td>\n",
       "    </tr>\n",
       "    <tr>\n",
       "      <th>4131</th>\n",
       "      <td>2021-06-02</td>\n",
       "      <td>145.750000</td>\n",
       "      <td>144.110001</td>\n",
       "      <td>144.619995</td>\n",
       "      <td>145.720001</td>\n",
       "      <td>2786900.0</td>\n",
       "      <td>145.720001</td>\n",
       "    </tr>\n",
       "    <tr>\n",
       "      <th>4132</th>\n",
       "      <td>2021-06-03</td>\n",
       "      <td>145.880005</td>\n",
       "      <td>144.039993</td>\n",
       "      <td>144.910004</td>\n",
       "      <td>145.550003</td>\n",
       "      <td>4130600.0</td>\n",
       "      <td>145.550003</td>\n",
       "    </tr>\n",
       "    <tr>\n",
       "      <th>4133</th>\n",
       "      <td>2021-06-04</td>\n",
       "      <td>147.550003</td>\n",
       "      <td>145.710007</td>\n",
       "      <td>146.000000</td>\n",
       "      <td>147.419998</td>\n",
       "      <td>3117905.0</td>\n",
       "      <td>147.419998</td>\n",
       "    </tr>\n",
       "  </tbody>\n",
       "</table>\n",
       "<p>4134 rows × 7 columns</p>\n",
       "</div>"
      ],
      "text/plain": [
       "           Date        High         Low        Open       Close     Volume  \\\n",
       "0    2005-01-03   99.099998   97.250000   98.970001   97.750000  5295200.0   \n",
       "1    2005-01-04   98.419998   96.519997   97.739998   96.699997  5711000.0   \n",
       "2    2005-01-05   97.830002   96.400002   96.599998   96.500000  5646700.0   \n",
       "3    2005-01-06   96.980003   96.050003   96.540001   96.199997  4561700.0   \n",
       "4    2005-01-07   96.800003   95.470001   96.500000   95.779999  6200700.0   \n",
       "...         ...         ...         ...         ...         ...        ...   \n",
       "4129 2021-05-28  144.330002  143.490005  144.210007  143.740005  2534600.0   \n",
       "4130 2021-06-01  145.830002  143.750000  145.000000  144.190002  2417500.0   \n",
       "4131 2021-06-02  145.750000  144.110001  144.619995  145.720001  2786900.0   \n",
       "4132 2021-06-03  145.880005  144.039993  144.910004  145.550003  4130600.0   \n",
       "4133 2021-06-04  147.550003  145.710007  146.000000  147.419998  3117905.0   \n",
       "\n",
       "       Adj Close  \n",
       "0      62.729687  \n",
       "1      62.055878  \n",
       "2      61.927532  \n",
       "3      61.735004  \n",
       "4      61.465485  \n",
       "...          ...  \n",
       "4129  143.740005  \n",
       "4130  144.190002  \n",
       "4131  145.720001  \n",
       "4132  145.550003  \n",
       "4133  147.419998  \n",
       "\n",
       "[4134 rows x 7 columns]"
      ]
     },
     "execution_count": 3,
     "metadata": {},
     "output_type": "execute_result"
    }
   ],
   "source": [
    "import pandas_datareader.data as web\n",
    "\n",
    "\n",
    "df = web.DataReader(\"IBM\", \"yahoo\", \"2005/1/1\").dropna()\n",
    "df = df.rename_axis(\"Date\").reset_index()\n",
    "df"
   ]
  },
  {
   "cell_type": "code",
   "execution_count": 4,
   "metadata": {},
   "outputs": [],
   "source": [
    "window_size = 21"
   ]
  },
  {
   "cell_type": "code",
   "execution_count": 5,
   "metadata": {},
   "outputs": [],
   "source": [
    "close_prices = df[\"Close\"]\n",
    "scaler = StandardScaler()\n",
    "\n",
    "close_prices_arr = np.array(close_prices).reshape(-1, 1)\n",
    "close_prices = scaler.fit_transform(close_prices_arr)\n",
    "\n",
    "close_prices_unscaled = df[\"Close\"]"
   ]
  },
  {
   "cell_type": "code",
   "execution_count": 6,
   "metadata": {},
   "outputs": [],
   "source": [
    "def create_timestamps_ds(series, timestep_size=window_size):\n",
    "    time_stamps = []\n",
    "    labels = []\n",
    "    aux_deque = deque(maxlen=timestep_size)\n",
    "\n",
    "    # starting the timestep deque\n",
    "    for i in range(timestep_size):\n",
    "        aux_deque.append(0)\n",
    "\n",
    "    # feed the timestamps list\n",
    "    for i in range(len(series) - 1):\n",
    "        aux_deque.append(series[i])\n",
    "        time_stamps.append(list(aux_deque))\n",
    "\n",
    "    # feed the labels lsit\n",
    "    for i in range(len(series) - 1):\n",
    "        labels.append(series[i + 1])\n",
    "\n",
    "    assert len(time_stamps) == len(labels), \"Something went wrong\"\n",
    "\n",
    "    # torch-tensoring it\n",
    "    features = torch.tensor(time_stamps[timestep_size:]).float()\n",
    "    labels = torch.tensor(labels[timestep_size:]).float()\n",
    "\n",
    "    return features, labels"
   ]
  },
  {
   "cell_type": "code",
   "execution_count": 7,
   "metadata": {},
   "outputs": [],
   "source": [
    "@variational_estimator\n",
    "class NN(nn.Module):\n",
    "    def __init__(self):\n",
    "        super(NN, self).__init__()\n",
    "        self.lstm_1 = BayesianLSTM(\n",
    "            1, 10, prior_sigma_1=1, prior_pi=1, posterior_rho_init=-3.0\n",
    "        )\n",
    "        self.linear = nn.Linear(10, 1)\n",
    "\n",
    "    def forward(self, x):\n",
    "        x_, _ = self.lstm_1(x)\n",
    "\n",
    "        # gathering only the latent end-of-sequence for the linear layer\n",
    "        x_ = x_[:, -1, :]\n",
    "        x_ = self.linear(x_)\n",
    "        return x_"
   ]
  },
  {
   "cell_type": "code",
   "execution_count": 8,
   "metadata": {},
   "outputs": [],
   "source": [
    "Xs, ys = create_timestamps_ds(close_prices)\n",
    "X_train, X_test, y_train, y_test = train_test_split(\n",
    "    Xs, ys, test_size=0.25, random_state=42, shuffle=False\n",
    ")\n",
    "\n",
    "\n",
    "ds = torch.utils.data.TensorDataset(X_train, y_train)\n",
    "dataloader_train = torch.utils.data.DataLoader(ds, batch_size=8, shuffle=True)\n",
    "\n",
    "net = NN()\n",
    "\n",
    "criterion = nn.MSELoss()\n",
    "optimizer = optim.Adam(net.parameters(), lr=0.001)"
   ]
  },
  {
   "cell_type": "code",
   "execution_count": 9,
   "metadata": {},
   "outputs": [
    {
     "name": "stdout",
     "output_type": "stream",
     "text": [
      "Iteration: 250 Val-loss: 0.0596\n",
      "Iteration: 500 Val-loss: 0.0099\n",
      "Iteration: 750 Val-loss: 0.0163\n",
      "Iteration: 1000 Val-loss: 0.0146\n",
      "Iteration: 1250 Val-loss: 0.0071\n",
      "Iteration: 1500 Val-loss: 0.0068\n",
      "Iteration: 1750 Val-loss: 0.0077\n",
      "Iteration: 2000 Val-loss: 0.0063\n",
      "Iteration: 2250 Val-loss: 0.0069\n",
      "Iteration: 2500 Val-loss: 0.0105\n",
      "Iteration: 2750 Val-loss: 0.0057\n",
      "Iteration: 3000 Val-loss: 0.0112\n",
      "Iteration: 3250 Val-loss: 0.0049\n",
      "Iteration: 3500 Val-loss: 0.0094\n",
      "Iteration: 3750 Val-loss: 0.0073\n"
     ]
    }
   ],
   "source": [
    "iteration = 0\n",
    "for epoch in range(10):\n",
    "    for i, (datapoints, labels) in enumerate(dataloader_train):\n",
    "        optimizer.zero_grad()\n",
    "\n",
    "        loss = net.sample_elbo(\n",
    "            inputs=datapoints,\n",
    "            labels=labels,\n",
    "            criterion=criterion,\n",
    "            sample_nbr=3,\n",
    "            complexity_cost_weight=1 / X_train.shape[0],\n",
    "        )\n",
    "        loss.backward()\n",
    "        optimizer.step()\n",
    "\n",
    "        iteration += 1\n",
    "        if iteration % 250 == 0:\n",
    "            preds_test = net(X_test)[:, 0].unsqueeze(1)\n",
    "            loss_test = criterion(preds_test, y_test)\n",
    "            print(\n",
    "                \"Iteration: {} Val-loss: {:.4f}\".format(\n",
    "                    str(iteration), loss_test\n",
    "                )\n",
    "            )"
   ]
  },
  {
   "cell_type": "code",
   "execution_count": 10,
   "metadata": {},
   "outputs": [
    {
     "data": {
      "text/plain": [
       "22       93.540001\n",
       "23       94.510002\n",
       "24       94.529999\n",
       "25       94.129997\n",
       "26       92.699997\n",
       "           ...    \n",
       "4129    143.740005\n",
       "4130    144.190002\n",
       "4131    145.720001\n",
       "4132    145.550003\n",
       "4133    147.419998\n",
       "Name: Close, Length: 4112, dtype: float64"
      ]
     },
     "execution_count": 10,
     "metadata": {},
     "output_type": "execute_result"
    }
   ],
   "source": [
    "# pred_unscaled\n",
    "original = close_prices_unscaled[1:][window_size:]\n",
    "original"
   ]
  },
  {
   "cell_type": "code",
   "execution_count": 11,
   "metadata": {},
   "outputs": [],
   "source": [
    "df_pred = pd.DataFrame(original)\n",
    "df_pred[\"Date\"] = df.Date\n",
    "df[\"Date\"] = pd.to_datetime(df_pred[\"Date\"])\n",
    "df_pred = df_pred.reset_index()\n",
    "# df_pred = df_pred.set_index('Date')"
   ]
  },
  {
   "cell_type": "code",
   "execution_count": 12,
   "metadata": {},
   "outputs": [],
   "source": [
    "def pred_stock_future(X_test, future_lengthx, sample_nbr=10):\n",
    "\n",
    "    # sorry for that, window_size is a global variable, and so are X_train and Xs\n",
    "    global window_size\n",
    "    global X_train\n",
    "    global Xs\n",
    "    global scaler\n",
    "\n",
    "    # creating auxiliar variables for future prediction\n",
    "    preds_test = []\n",
    "    test_begin = X_test[0:1, :, :]\n",
    "    test_deque = deque(test_begin[0, :, 0].tolist(), maxlen=window_size)\n",
    "\n",
    "    idx_pred = np.arange(len(X_train), len(Xs))\n",
    "\n",
    "    # predict it and append to list\n",
    "    for i in range(len(X_test)):\n",
    "        # print(i)\n",
    "        as_net_input = torch.tensor(test_deque).unsqueeze(0).unsqueeze(2)\n",
    "        pred = [net(as_net_input).cpu().item() for i in range(sample_nbr)]\n",
    "\n",
    "        test_deque.append(torch.tensor(pred).mean().cpu().item())\n",
    "        preds_test.append(pred)\n",
    "\n",
    "        if i % future_length == 0:\n",
    "            # our inptus become the i index of our X_test\n",
    "            # That tweak just helps us with shape issues\n",
    "            test_begin = X_test[i : i + 1, :, :]\n",
    "            test_deque = deque(\n",
    "                test_begin[0, :, 0].tolist(), maxlen=window_size\n",
    "            )\n",
    "\n",
    "    # preds_test = np.array(preds_test).reshape(-1, 1)\n",
    "    # preds_test_unscaled = scaler.inverse_transform(preds_test)\n",
    "\n",
    "    return idx_pred, preds_test"
   ]
  },
  {
   "cell_type": "code",
   "execution_count": 13,
   "metadata": {},
   "outputs": [],
   "source": [
    "def get_confidence_intervals(preds_test, ci_multiplier):\n",
    "    global scaler\n",
    "\n",
    "    preds_test = torch.tensor(preds_test)\n",
    "\n",
    "    pred_mean = preds_test.mean(1)\n",
    "    pred_std = preds_test.std(1).detach().cpu().numpy()\n",
    "\n",
    "    pred_std = torch.tensor((pred_std))\n",
    "    # print(pred_std)\n",
    "\n",
    "    upper_bound = pred_mean + (pred_std * ci_multiplier)\n",
    "    lower_bound = pred_mean - (pred_std * ci_multiplier)\n",
    "    # gather unscaled confidence intervals\n",
    "\n",
    "    pred_mean_final = pred_mean.unsqueeze(1).detach().cpu().numpy()\n",
    "    pred_mean_unscaled = scaler.inverse_transform(pred_mean_final)\n",
    "\n",
    "    upper_bound_unscaled = upper_bound.unsqueeze(1).detach().cpu().numpy()\n",
    "    upper_bound_unscaled = scaler.inverse_transform(upper_bound_unscaled)\n",
    "\n",
    "    lower_bound_unscaled = lower_bound.unsqueeze(1).detach().cpu().numpy()\n",
    "    lower_bound_unscaled = scaler.inverse_transform(lower_bound_unscaled)\n",
    "\n",
    "    return pred_mean_unscaled, upper_bound_unscaled, lower_bound_unscaled"
   ]
  },
  {
   "cell_type": "code",
   "execution_count": 14,
   "metadata": {},
   "outputs": [],
   "source": [
    "future_length = 7\n",
    "sample_nbr = 4\n",
    "ci_multiplier = 5\n",
    "idx_pred, preds_test = pred_stock_future(X_test, future_length, sample_nbr)\n",
    "(\n",
    "    pred_mean_unscaled,\n",
    "    upper_bound_unscaled,\n",
    "    lower_bound_unscaled,\n",
    ") = get_confidence_intervals(preds_test, ci_multiplier)"
   ]
  },
  {
   "cell_type": "code",
   "execution_count": 15,
   "metadata": {},
   "outputs": [
    {
     "name": "stdout",
     "output_type": "stream",
     "text": [
      "0.8239299610894941 our predictions are in our confidence interval\n"
     ]
    }
   ],
   "source": [
    "y = np.array(df.Close[-1028:]).reshape(-1, 1)\n",
    "under_upper = upper_bound_unscaled > y\n",
    "over_lower = lower_bound_unscaled < y\n",
    "total = under_upper == over_lower\n",
    "\n",
    "print(\n",
    "    \"{} our predictions are in our confidence interval\".format(np.mean(total))\n",
    ")"
   ]
  },
  {
   "cell_type": "code",
   "execution_count": 16,
   "metadata": {},
   "outputs": [
    {
     "data": {
      "text/plain": [
       "<matplotlib.legend.Legend at 0x7fbdfab8a400>"
      ]
     },
     "execution_count": 16,
     "metadata": {},
     "output_type": "execute_result"
    },
    {
     "data": {
      "image/png": "[encoded data removed]",
      "text/plain": [
       "<Figure size 432x288 with 1 Axes>"
      ]
     },
     "metadata": {
      "needs_background": "dark"
     },
     "output_type": "display_data"
    }
   ],
   "source": [
    "params = {\n",
    "    \"ytick.color\": \"w\",\n",
    "    \"xtick.color\": \"w\",\n",
    "    \"axes.labelcolor\": \"w\",\n",
    "    \"axes.edgecolor\": \"w\",\n",
    "}\n",
    "\n",
    "plt.rcParams.update(params)\n",
    "\n",
    "plt.title(\"IBM Stock prices\", color=\"white\")\n",
    "\n",
    "plt.plot(df_pred.index, df_pred.Close, color=\"black\", label=\"Real\")\n",
    "\n",
    "plt.plot(\n",
    "    idx_pred,\n",
    "    pred_mean_unscaled,\n",
    "    label=\"Prediction for {} days, than consult\".format(future_length),\n",
    "    color=\"red\",\n",
    ")\n",
    "\n",
    "plt.fill_between(\n",
    "    x=idx_pred,\n",
    "    y1=upper_bound_unscaled[:, 0],\n",
    "    y2=lower_bound_unscaled[:, 0],\n",
    "    facecolor=\"green\",\n",
    "    label=\"Confidence interval\",\n",
    "    alpha=0.5,\n",
    ")\n",
    "\n",
    "plt.legend()"
   ]
  },
  {
   "cell_type": "code",
   "execution_count": 17,
   "metadata": {},
   "outputs": [
    {
     "data": {
      "text/plain": [
       "<matplotlib.legend.Legend at 0x7fbdfae092b0>"
      ]
     },
     "execution_count": 17,
     "metadata": {},
     "output_type": "execute_result"
    },
    {
     "data": {
      "image/png": "[encoded data removed]",
      "text/plain": [
       "<Figure size 432x288 with 1 Axes>"
      ]
     },
     "metadata": {
      "needs_background": "dark"
     },
     "output_type": "display_data"
    }
   ],
   "source": [
    "params = {\n",
    "    \"ytick.color\": \"w\",\n",
    "    \"xtick.color\": \"w\",\n",
    "    \"axes.labelcolor\": \"w\",\n",
    "    \"axes.edgecolor\": \"w\",\n",
    "}\n",
    "plt.rcParams.update(params)\n",
    "\n",
    "plt.title(\"IBM Stock prices\", color=\"white\")\n",
    "\n",
    "\n",
    "plt.fill_between(\n",
    "    x=idx_pred,\n",
    "    y1=upper_bound_unscaled[:, 0],\n",
    "    y2=lower_bound_unscaled[:, 0],\n",
    "    facecolor=\"green\",\n",
    "    label=\"Confidence interval\",\n",
    "    alpha=0.75,\n",
    ")\n",
    "\n",
    "plt.plot(\n",
    "    idx_pred,\n",
    "    df_pred.Close[-len(pred_mean_unscaled) :],\n",
    "    label=\"Real\",\n",
    "    alpha=1,\n",
    "    color=\"black\",\n",
    "    linewidth=0.5,\n",
    ")\n",
    "\n",
    "plt.plot(\n",
    "    idx_pred,\n",
    "    pred_mean_unscaled,\n",
    "    label=\"Prediction for {} days, than consult\".format(future_length),\n",
    "    color=\"red\",\n",
    "    alpha=0.5,\n",
    ")\n",
    "\n",
    "plt.legend()"
   ]
  },
  {
   "cell_type": "code",
   "execution_count": null,
   "metadata": {},
   "outputs": [],
   "source": []
  }
 ],
 "metadata": {
  "kernelspec": {
   "display_name": "Python 3",
   "language": "python",
   "name": "python3"
  },
  "language_info": {
   "codemirror_mode": {
    "name": "ipython",
    "version": 3
   },
   "file_extension": ".py",
   "mimetype": "text/x-python",
   "name": "python",
   "nbconvert_exporter": "python",
   "pygments_lexer": "ipython3",
   "version": "3.8.8"
  }
 },
 "nbformat": 4,
 "nbformat_minor": 4
}
